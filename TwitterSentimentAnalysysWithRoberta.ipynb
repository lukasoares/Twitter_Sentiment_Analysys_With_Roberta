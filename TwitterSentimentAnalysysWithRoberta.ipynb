{
  "nbformat": 4,
  "nbformat_minor": 0,
  "metadata": {
    "colab": {
      "provenance": [],
      "mount_file_id": "1lkFzXVkhiKVR9J9ddZxuOES1bNB3CmbK",
      "authorship_tag": "ABX9TyNF7bbHwQnGHlPRot5oUUcG",
      "include_colab_link": true
    },
    "kernelspec": {
      "name": "python3",
      "display_name": "Python 3"
    },
    "language_info": {
      "name": "python"
    },
    "gpuClass": "standard",
    "widgets": {
      "application/vnd.jupyter.widget-state+json": {
        "c15f244832ba46ddb2fad042dd34abf0": {
          "model_module": "@jupyter-widgets/controls",
          "model_name": "HBoxModel",
          "model_module_version": "1.5.0",
          "state": {
            "_dom_classes": [],
            "_model_module": "@jupyter-widgets/controls",
            "_model_module_version": "1.5.0",
            "_model_name": "HBoxModel",
            "_view_count": null,
            "_view_module": "@jupyter-widgets/controls",
            "_view_module_version": "1.5.0",
            "_view_name": "HBoxView",
            "box_style": "",
            "children": [
              "IPY_MODEL_73345e23220349e587be90710e1e2736",
              "IPY_MODEL_d9ef6c35c0244826947fbb036511d519",
              "IPY_MODEL_7c7c51709a074b938178e88565ea9e04"
            ],
            "layout": "IPY_MODEL_ece5079e1c3b4400b199ffcf9d02b76d"
          }
        },
        "73345e23220349e587be90710e1e2736": {
          "model_module": "@jupyter-widgets/controls",
          "model_name": "HTMLModel",
          "model_module_version": "1.5.0",
          "state": {
            "_dom_classes": [],
            "_model_module": "@jupyter-widgets/controls",
            "_model_module_version": "1.5.0",
            "_model_name": "HTMLModel",
            "_view_count": null,
            "_view_module": "@jupyter-widgets/controls",
            "_view_module_version": "1.5.0",
            "_view_name": "HTMLView",
            "description": "",
            "description_tooltip": null,
            "layout": "IPY_MODEL_a1c29c60c08f4a86bb9d362f61cabcb0",
            "placeholder": "​",
            "style": "IPY_MODEL_08ecb0cfe05d421490041f25e31afe4a",
            "value": "Downloading (…)lve/main/config.json: 100%"
          }
        },
        "d9ef6c35c0244826947fbb036511d519": {
          "model_module": "@jupyter-widgets/controls",
          "model_name": "FloatProgressModel",
          "model_module_version": "1.5.0",
          "state": {
            "_dom_classes": [],
            "_model_module": "@jupyter-widgets/controls",
            "_model_module_version": "1.5.0",
            "_model_name": "FloatProgressModel",
            "_view_count": null,
            "_view_module": "@jupyter-widgets/controls",
            "_view_module_version": "1.5.0",
            "_view_name": "ProgressView",
            "bar_style": "success",
            "description": "",
            "description_tooltip": null,
            "layout": "IPY_MODEL_41ff4523e5d3431e906f35b0ae5a5bad",
            "max": 747,
            "min": 0,
            "orientation": "horizontal",
            "style": "IPY_MODEL_21fe058e05ff4faaa02d3787f59b4ed9",
            "value": 747
          }
        },
        "7c7c51709a074b938178e88565ea9e04": {
          "model_module": "@jupyter-widgets/controls",
          "model_name": "HTMLModel",
          "model_module_version": "1.5.0",
          "state": {
            "_dom_classes": [],
            "_model_module": "@jupyter-widgets/controls",
            "_model_module_version": "1.5.0",
            "_model_name": "HTMLModel",
            "_view_count": null,
            "_view_module": "@jupyter-widgets/controls",
            "_view_module_version": "1.5.0",
            "_view_name": "HTMLView",
            "description": "",
            "description_tooltip": null,
            "layout": "IPY_MODEL_6592e58593e54cb58538f58ec325678e",
            "placeholder": "​",
            "style": "IPY_MODEL_b10843d242964c24a5b1b587efbd7c35",
            "value": " 747/747 [00:00&lt;00:00, 24.8kB/s]"
          }
        },
        "ece5079e1c3b4400b199ffcf9d02b76d": {
          "model_module": "@jupyter-widgets/base",
          "model_name": "LayoutModel",
          "model_module_version": "1.2.0",
          "state": {
            "_model_module": "@jupyter-widgets/base",
            "_model_module_version": "1.2.0",
            "_model_name": "LayoutModel",
            "_view_count": null,
            "_view_module": "@jupyter-widgets/base",
            "_view_module_version": "1.2.0",
            "_view_name": "LayoutView",
            "align_content": null,
            "align_items": null,
            "align_self": null,
            "border": null,
            "bottom": null,
            "display": null,
            "flex": null,
            "flex_flow": null,
            "grid_area": null,
            "grid_auto_columns": null,
            "grid_auto_flow": null,
            "grid_auto_rows": null,
            "grid_column": null,
            "grid_gap": null,
            "grid_row": null,
            "grid_template_areas": null,
            "grid_template_columns": null,
            "grid_template_rows": null,
            "height": null,
            "justify_content": null,
            "justify_items": null,
            "left": null,
            "margin": null,
            "max_height": null,
            "max_width": null,
            "min_height": null,
            "min_width": null,
            "object_fit": null,
            "object_position": null,
            "order": null,
            "overflow": null,
            "overflow_x": null,
            "overflow_y": null,
            "padding": null,
            "right": null,
            "top": null,
            "visibility": null,
            "width": null
          }
        },
        "a1c29c60c08f4a86bb9d362f61cabcb0": {
          "model_module": "@jupyter-widgets/base",
          "model_name": "LayoutModel",
          "model_module_version": "1.2.0",
          "state": {
            "_model_module": "@jupyter-widgets/base",
            "_model_module_version": "1.2.0",
            "_model_name": "LayoutModel",
            "_view_count": null,
            "_view_module": "@jupyter-widgets/base",
            "_view_module_version": "1.2.0",
            "_view_name": "LayoutView",
            "align_content": null,
            "align_items": null,
            "align_self": null,
            "border": null,
            "bottom": null,
            "display": null,
            "flex": null,
            "flex_flow": null,
            "grid_area": null,
            "grid_auto_columns": null,
            "grid_auto_flow": null,
            "grid_auto_rows": null,
            "grid_column": null,
            "grid_gap": null,
            "grid_row": null,
            "grid_template_areas": null,
            "grid_template_columns": null,
            "grid_template_rows": null,
            "height": null,
            "justify_content": null,
            "justify_items": null,
            "left": null,
            "margin": null,
            "max_height": null,
            "max_width": null,
            "min_height": null,
            "min_width": null,
            "object_fit": null,
            "object_position": null,
            "order": null,
            "overflow": null,
            "overflow_x": null,
            "overflow_y": null,
            "padding": null,
            "right": null,
            "top": null,
            "visibility": null,
            "width": null
          }
        },
        "08ecb0cfe05d421490041f25e31afe4a": {
          "model_module": "@jupyter-widgets/controls",
          "model_name": "DescriptionStyleModel",
          "model_module_version": "1.5.0",
          "state": {
            "_model_module": "@jupyter-widgets/controls",
            "_model_module_version": "1.5.0",
            "_model_name": "DescriptionStyleModel",
            "_view_count": null,
            "_view_module": "@jupyter-widgets/base",
            "_view_module_version": "1.2.0",
            "_view_name": "StyleView",
            "description_width": ""
          }
        },
        "41ff4523e5d3431e906f35b0ae5a5bad": {
          "model_module": "@jupyter-widgets/base",
          "model_name": "LayoutModel",
          "model_module_version": "1.2.0",
          "state": {
            "_model_module": "@jupyter-widgets/base",
            "_model_module_version": "1.2.0",
            "_model_name": "LayoutModel",
            "_view_count": null,
            "_view_module": "@jupyter-widgets/base",
            "_view_module_version": "1.2.0",
            "_view_name": "LayoutView",
            "align_content": null,
            "align_items": null,
            "align_self": null,
            "border": null,
            "bottom": null,
            "display": null,
            "flex": null,
            "flex_flow": null,
            "grid_area": null,
            "grid_auto_columns": null,
            "grid_auto_flow": null,
            "grid_auto_rows": null,
            "grid_column": null,
            "grid_gap": null,
            "grid_row": null,
            "grid_template_areas": null,
            "grid_template_columns": null,
            "grid_template_rows": null,
            "height": null,
            "justify_content": null,
            "justify_items": null,
            "left": null,
            "margin": null,
            "max_height": null,
            "max_width": null,
            "min_height": null,
            "min_width": null,
            "object_fit": null,
            "object_position": null,
            "order": null,
            "overflow": null,
            "overflow_x": null,
            "overflow_y": null,
            "padding": null,
            "right": null,
            "top": null,
            "visibility": null,
            "width": null
          }
        },
        "21fe058e05ff4faaa02d3787f59b4ed9": {
          "model_module": "@jupyter-widgets/controls",
          "model_name": "ProgressStyleModel",
          "model_module_version": "1.5.0",
          "state": {
            "_model_module": "@jupyter-widgets/controls",
            "_model_module_version": "1.5.0",
            "_model_name": "ProgressStyleModel",
            "_view_count": null,
            "_view_module": "@jupyter-widgets/base",
            "_view_module_version": "1.2.0",
            "_view_name": "StyleView",
            "bar_color": null,
            "description_width": ""
          }
        },
        "6592e58593e54cb58538f58ec325678e": {
          "model_module": "@jupyter-widgets/base",
          "model_name": "LayoutModel",
          "model_module_version": "1.2.0",
          "state": {
            "_model_module": "@jupyter-widgets/base",
            "_model_module_version": "1.2.0",
            "_model_name": "LayoutModel",
            "_view_count": null,
            "_view_module": "@jupyter-widgets/base",
            "_view_module_version": "1.2.0",
            "_view_name": "LayoutView",
            "align_content": null,
            "align_items": null,
            "align_self": null,
            "border": null,
            "bottom": null,
            "display": null,
            "flex": null,
            "flex_flow": null,
            "grid_area": null,
            "grid_auto_columns": null,
            "grid_auto_flow": null,
            "grid_auto_rows": null,
            "grid_column": null,
            "grid_gap": null,
            "grid_row": null,
            "grid_template_areas": null,
            "grid_template_columns": null,
            "grid_template_rows": null,
            "height": null,
            "justify_content": null,
            "justify_items": null,
            "left": null,
            "margin": null,
            "max_height": null,
            "max_width": null,
            "min_height": null,
            "min_width": null,
            "object_fit": null,
            "object_position": null,
            "order": null,
            "overflow": null,
            "overflow_x": null,
            "overflow_y": null,
            "padding": null,
            "right": null,
            "top": null,
            "visibility": null,
            "width": null
          }
        },
        "b10843d242964c24a5b1b587efbd7c35": {
          "model_module": "@jupyter-widgets/controls",
          "model_name": "DescriptionStyleModel",
          "model_module_version": "1.5.0",
          "state": {
            "_model_module": "@jupyter-widgets/controls",
            "_model_module_version": "1.5.0",
            "_model_name": "DescriptionStyleModel",
            "_view_count": null,
            "_view_module": "@jupyter-widgets/base",
            "_view_module_version": "1.2.0",
            "_view_name": "StyleView",
            "description_width": ""
          }
        },
        "2085dc4ff1b643d9b8ce6bfccc165d1c": {
          "model_module": "@jupyter-widgets/controls",
          "model_name": "HBoxModel",
          "model_module_version": "1.5.0",
          "state": {
            "_dom_classes": [],
            "_model_module": "@jupyter-widgets/controls",
            "_model_module_version": "1.5.0",
            "_model_name": "HBoxModel",
            "_view_count": null,
            "_view_module": "@jupyter-widgets/controls",
            "_view_module_version": "1.5.0",
            "_view_name": "HBoxView",
            "box_style": "",
            "children": [
              "IPY_MODEL_a0e5cbcae75b4459a7a3f2f4de081b34",
              "IPY_MODEL_ee8bca0af4f14a33b101d272a2b39c4c",
              "IPY_MODEL_5b509c48024f49a4aaac30988dad0e17"
            ],
            "layout": "IPY_MODEL_4e384d94abc9497383de8ad03519dfc3"
          }
        },
        "a0e5cbcae75b4459a7a3f2f4de081b34": {
          "model_module": "@jupyter-widgets/controls",
          "model_name": "HTMLModel",
          "model_module_version": "1.5.0",
          "state": {
            "_dom_classes": [],
            "_model_module": "@jupyter-widgets/controls",
            "_model_module_version": "1.5.0",
            "_model_name": "HTMLModel",
            "_view_count": null,
            "_view_module": "@jupyter-widgets/controls",
            "_view_module_version": "1.5.0",
            "_view_name": "HTMLView",
            "description": "",
            "description_tooltip": null,
            "layout": "IPY_MODEL_a5e320415f0f4816b4806129d997ee17",
            "placeholder": "​",
            "style": "IPY_MODEL_5abe81adedb84f019e29182316f46682",
            "value": "Downloading pytorch_model.bin: 100%"
          }
        },
        "ee8bca0af4f14a33b101d272a2b39c4c": {
          "model_module": "@jupyter-widgets/controls",
          "model_name": "FloatProgressModel",
          "model_module_version": "1.5.0",
          "state": {
            "_dom_classes": [],
            "_model_module": "@jupyter-widgets/controls",
            "_model_module_version": "1.5.0",
            "_model_name": "FloatProgressModel",
            "_view_count": null,
            "_view_module": "@jupyter-widgets/controls",
            "_view_module_version": "1.5.0",
            "_view_name": "ProgressView",
            "bar_style": "success",
            "description": "",
            "description_tooltip": null,
            "layout": "IPY_MODEL_29575a06467748a6935549918533d892",
            "max": 498679497,
            "min": 0,
            "orientation": "horizontal",
            "style": "IPY_MODEL_16775e6efb45494d9214f9c8a85967d6",
            "value": 498679497
          }
        },
        "5b509c48024f49a4aaac30988dad0e17": {
          "model_module": "@jupyter-widgets/controls",
          "model_name": "HTMLModel",
          "model_module_version": "1.5.0",
          "state": {
            "_dom_classes": [],
            "_model_module": "@jupyter-widgets/controls",
            "_model_module_version": "1.5.0",
            "_model_name": "HTMLModel",
            "_view_count": null,
            "_view_module": "@jupyter-widgets/controls",
            "_view_module_version": "1.5.0",
            "_view_name": "HTMLView",
            "description": "",
            "description_tooltip": null,
            "layout": "IPY_MODEL_30925cc78ef346a0a8295c3ac610ec00",
            "placeholder": "​",
            "style": "IPY_MODEL_d814b47a1807450eb8f106ca69c6e007",
            "value": " 499M/499M [00:03&lt;00:00, 172MB/s]"
          }
        },
        "4e384d94abc9497383de8ad03519dfc3": {
          "model_module": "@jupyter-widgets/base",
          "model_name": "LayoutModel",
          "model_module_version": "1.2.0",
          "state": {
            "_model_module": "@jupyter-widgets/base",
            "_model_module_version": "1.2.0",
            "_model_name": "LayoutModel",
            "_view_count": null,
            "_view_module": "@jupyter-widgets/base",
            "_view_module_version": "1.2.0",
            "_view_name": "LayoutView",
            "align_content": null,
            "align_items": null,
            "align_self": null,
            "border": null,
            "bottom": null,
            "display": null,
            "flex": null,
            "flex_flow": null,
            "grid_area": null,
            "grid_auto_columns": null,
            "grid_auto_flow": null,
            "grid_auto_rows": null,
            "grid_column": null,
            "grid_gap": null,
            "grid_row": null,
            "grid_template_areas": null,
            "grid_template_columns": null,
            "grid_template_rows": null,
            "height": null,
            "justify_content": null,
            "justify_items": null,
            "left": null,
            "margin": null,
            "max_height": null,
            "max_width": null,
            "min_height": null,
            "min_width": null,
            "object_fit": null,
            "object_position": null,
            "order": null,
            "overflow": null,
            "overflow_x": null,
            "overflow_y": null,
            "padding": null,
            "right": null,
            "top": null,
            "visibility": null,
            "width": null
          }
        },
        "a5e320415f0f4816b4806129d997ee17": {
          "model_module": "@jupyter-widgets/base",
          "model_name": "LayoutModel",
          "model_module_version": "1.2.0",
          "state": {
            "_model_module": "@jupyter-widgets/base",
            "_model_module_version": "1.2.0",
            "_model_name": "LayoutModel",
            "_view_count": null,
            "_view_module": "@jupyter-widgets/base",
            "_view_module_version": "1.2.0",
            "_view_name": "LayoutView",
            "align_content": null,
            "align_items": null,
            "align_self": null,
            "border": null,
            "bottom": null,
            "display": null,
            "flex": null,
            "flex_flow": null,
            "grid_area": null,
            "grid_auto_columns": null,
            "grid_auto_flow": null,
            "grid_auto_rows": null,
            "grid_column": null,
            "grid_gap": null,
            "grid_row": null,
            "grid_template_areas": null,
            "grid_template_columns": null,
            "grid_template_rows": null,
            "height": null,
            "justify_content": null,
            "justify_items": null,
            "left": null,
            "margin": null,
            "max_height": null,
            "max_width": null,
            "min_height": null,
            "min_width": null,
            "object_fit": null,
            "object_position": null,
            "order": null,
            "overflow": null,
            "overflow_x": null,
            "overflow_y": null,
            "padding": null,
            "right": null,
            "top": null,
            "visibility": null,
            "width": null
          }
        },
        "5abe81adedb84f019e29182316f46682": {
          "model_module": "@jupyter-widgets/controls",
          "model_name": "DescriptionStyleModel",
          "model_module_version": "1.5.0",
          "state": {
            "_model_module": "@jupyter-widgets/controls",
            "_model_module_version": "1.5.0",
            "_model_name": "DescriptionStyleModel",
            "_view_count": null,
            "_view_module": "@jupyter-widgets/base",
            "_view_module_version": "1.2.0",
            "_view_name": "StyleView",
            "description_width": ""
          }
        },
        "29575a06467748a6935549918533d892": {
          "model_module": "@jupyter-widgets/base",
          "model_name": "LayoutModel",
          "model_module_version": "1.2.0",
          "state": {
            "_model_module": "@jupyter-widgets/base",
            "_model_module_version": "1.2.0",
            "_model_name": "LayoutModel",
            "_view_count": null,
            "_view_module": "@jupyter-widgets/base",
            "_view_module_version": "1.2.0",
            "_view_name": "LayoutView",
            "align_content": null,
            "align_items": null,
            "align_self": null,
            "border": null,
            "bottom": null,
            "display": null,
            "flex": null,
            "flex_flow": null,
            "grid_area": null,
            "grid_auto_columns": null,
            "grid_auto_flow": null,
            "grid_auto_rows": null,
            "grid_column": null,
            "grid_gap": null,
            "grid_row": null,
            "grid_template_areas": null,
            "grid_template_columns": null,
            "grid_template_rows": null,
            "height": null,
            "justify_content": null,
            "justify_items": null,
            "left": null,
            "margin": null,
            "max_height": null,
            "max_width": null,
            "min_height": null,
            "min_width": null,
            "object_fit": null,
            "object_position": null,
            "order": null,
            "overflow": null,
            "overflow_x": null,
            "overflow_y": null,
            "padding": null,
            "right": null,
            "top": null,
            "visibility": null,
            "width": null
          }
        },
        "16775e6efb45494d9214f9c8a85967d6": {
          "model_module": "@jupyter-widgets/controls",
          "model_name": "ProgressStyleModel",
          "model_module_version": "1.5.0",
          "state": {
            "_model_module": "@jupyter-widgets/controls",
            "_model_module_version": "1.5.0",
            "_model_name": "ProgressStyleModel",
            "_view_count": null,
            "_view_module": "@jupyter-widgets/base",
            "_view_module_version": "1.2.0",
            "_view_name": "StyleView",
            "bar_color": null,
            "description_width": ""
          }
        },
        "30925cc78ef346a0a8295c3ac610ec00": {
          "model_module": "@jupyter-widgets/base",
          "model_name": "LayoutModel",
          "model_module_version": "1.2.0",
          "state": {
            "_model_module": "@jupyter-widgets/base",
            "_model_module_version": "1.2.0",
            "_model_name": "LayoutModel",
            "_view_count": null,
            "_view_module": "@jupyter-widgets/base",
            "_view_module_version": "1.2.0",
            "_view_name": "LayoutView",
            "align_content": null,
            "align_items": null,
            "align_self": null,
            "border": null,
            "bottom": null,
            "display": null,
            "flex": null,
            "flex_flow": null,
            "grid_area": null,
            "grid_auto_columns": null,
            "grid_auto_flow": null,
            "grid_auto_rows": null,
            "grid_column": null,
            "grid_gap": null,
            "grid_row": null,
            "grid_template_areas": null,
            "grid_template_columns": null,
            "grid_template_rows": null,
            "height": null,
            "justify_content": null,
            "justify_items": null,
            "left": null,
            "margin": null,
            "max_height": null,
            "max_width": null,
            "min_height": null,
            "min_width": null,
            "object_fit": null,
            "object_position": null,
            "order": null,
            "overflow": null,
            "overflow_x": null,
            "overflow_y": null,
            "padding": null,
            "right": null,
            "top": null,
            "visibility": null,
            "width": null
          }
        },
        "d814b47a1807450eb8f106ca69c6e007": {
          "model_module": "@jupyter-widgets/controls",
          "model_name": "DescriptionStyleModel",
          "model_module_version": "1.5.0",
          "state": {
            "_model_module": "@jupyter-widgets/controls",
            "_model_module_version": "1.5.0",
            "_model_name": "DescriptionStyleModel",
            "_view_count": null,
            "_view_module": "@jupyter-widgets/base",
            "_view_module_version": "1.2.0",
            "_view_name": "StyleView",
            "description_width": ""
          }
        },
        "816d33642f0744b9a6077f1914f3df6a": {
          "model_module": "@jupyter-widgets/controls",
          "model_name": "HBoxModel",
          "model_module_version": "1.5.0",
          "state": {
            "_dom_classes": [],
            "_model_module": "@jupyter-widgets/controls",
            "_model_module_version": "1.5.0",
            "_model_name": "HBoxModel",
            "_view_count": null,
            "_view_module": "@jupyter-widgets/controls",
            "_view_module_version": "1.5.0",
            "_view_name": "HBoxView",
            "box_style": "",
            "children": [
              "IPY_MODEL_b4b6156a8ba84782ba6b4110d660bdfe",
              "IPY_MODEL_9eb8e30cef254f6f96a7f49e24254053",
              "IPY_MODEL_3f54f7a18aa24758ae2a5b3f7feee9ed"
            ],
            "layout": "IPY_MODEL_f454c15b869c4d969d109607ffa98e93"
          }
        },
        "b4b6156a8ba84782ba6b4110d660bdfe": {
          "model_module": "@jupyter-widgets/controls",
          "model_name": "HTMLModel",
          "model_module_version": "1.5.0",
          "state": {
            "_dom_classes": [],
            "_model_module": "@jupyter-widgets/controls",
            "_model_module_version": "1.5.0",
            "_model_name": "HTMLModel",
            "_view_count": null,
            "_view_module": "@jupyter-widgets/controls",
            "_view_module_version": "1.5.0",
            "_view_name": "HTMLView",
            "description": "",
            "description_tooltip": null,
            "layout": "IPY_MODEL_b36d11848e734712a51e3d55e7d882de",
            "placeholder": "​",
            "style": "IPY_MODEL_a5b857f9a2ce41f882a24383e8a5af85",
            "value": "Downloading (…)olve/main/vocab.json: 100%"
          }
        },
        "9eb8e30cef254f6f96a7f49e24254053": {
          "model_module": "@jupyter-widgets/controls",
          "model_name": "FloatProgressModel",
          "model_module_version": "1.5.0",
          "state": {
            "_dom_classes": [],
            "_model_module": "@jupyter-widgets/controls",
            "_model_module_version": "1.5.0",
            "_model_name": "FloatProgressModel",
            "_view_count": null,
            "_view_module": "@jupyter-widgets/controls",
            "_view_module_version": "1.5.0",
            "_view_name": "ProgressView",
            "bar_style": "success",
            "description": "",
            "description_tooltip": null,
            "layout": "IPY_MODEL_5d0a958fc1d64d3598a0429762163d61",
            "max": 898822,
            "min": 0,
            "orientation": "horizontal",
            "style": "IPY_MODEL_1c2100de96b4444eba93c5b90c4139af",
            "value": 898822
          }
        },
        "3f54f7a18aa24758ae2a5b3f7feee9ed": {
          "model_module": "@jupyter-widgets/controls",
          "model_name": "HTMLModel",
          "model_module_version": "1.5.0",
          "state": {
            "_dom_classes": [],
            "_model_module": "@jupyter-widgets/controls",
            "_model_module_version": "1.5.0",
            "_model_name": "HTMLModel",
            "_view_count": null,
            "_view_module": "@jupyter-widgets/controls",
            "_view_module_version": "1.5.0",
            "_view_name": "HTMLView",
            "description": "",
            "description_tooltip": null,
            "layout": "IPY_MODEL_5f71ee5cd7b343d6ba7800500c6bf4b0",
            "placeholder": "​",
            "style": "IPY_MODEL_895ffc8e60914a118eb7215288f1aba8",
            "value": " 899k/899k [00:07&lt;00:00, 120kB/s]"
          }
        },
        "f454c15b869c4d969d109607ffa98e93": {
          "model_module": "@jupyter-widgets/base",
          "model_name": "LayoutModel",
          "model_module_version": "1.2.0",
          "state": {
            "_model_module": "@jupyter-widgets/base",
            "_model_module_version": "1.2.0",
            "_model_name": "LayoutModel",
            "_view_count": null,
            "_view_module": "@jupyter-widgets/base",
            "_view_module_version": "1.2.0",
            "_view_name": "LayoutView",
            "align_content": null,
            "align_items": null,
            "align_self": null,
            "border": null,
            "bottom": null,
            "display": null,
            "flex": null,
            "flex_flow": null,
            "grid_area": null,
            "grid_auto_columns": null,
            "grid_auto_flow": null,
            "grid_auto_rows": null,
            "grid_column": null,
            "grid_gap": null,
            "grid_row": null,
            "grid_template_areas": null,
            "grid_template_columns": null,
            "grid_template_rows": null,
            "height": null,
            "justify_content": null,
            "justify_items": null,
            "left": null,
            "margin": null,
            "max_height": null,
            "max_width": null,
            "min_height": null,
            "min_width": null,
            "object_fit": null,
            "object_position": null,
            "order": null,
            "overflow": null,
            "overflow_x": null,
            "overflow_y": null,
            "padding": null,
            "right": null,
            "top": null,
            "visibility": null,
            "width": null
          }
        },
        "b36d11848e734712a51e3d55e7d882de": {
          "model_module": "@jupyter-widgets/base",
          "model_name": "LayoutModel",
          "model_module_version": "1.2.0",
          "state": {
            "_model_module": "@jupyter-widgets/base",
            "_model_module_version": "1.2.0",
            "_model_name": "LayoutModel",
            "_view_count": null,
            "_view_module": "@jupyter-widgets/base",
            "_view_module_version": "1.2.0",
            "_view_name": "LayoutView",
            "align_content": null,
            "align_items": null,
            "align_self": null,
            "border": null,
            "bottom": null,
            "display": null,
            "flex": null,
            "flex_flow": null,
            "grid_area": null,
            "grid_auto_columns": null,
            "grid_auto_flow": null,
            "grid_auto_rows": null,
            "grid_column": null,
            "grid_gap": null,
            "grid_row": null,
            "grid_template_areas": null,
            "grid_template_columns": null,
            "grid_template_rows": null,
            "height": null,
            "justify_content": null,
            "justify_items": null,
            "left": null,
            "margin": null,
            "max_height": null,
            "max_width": null,
            "min_height": null,
            "min_width": null,
            "object_fit": null,
            "object_position": null,
            "order": null,
            "overflow": null,
            "overflow_x": null,
            "overflow_y": null,
            "padding": null,
            "right": null,
            "top": null,
            "visibility": null,
            "width": null
          }
        },
        "a5b857f9a2ce41f882a24383e8a5af85": {
          "model_module": "@jupyter-widgets/controls",
          "model_name": "DescriptionStyleModel",
          "model_module_version": "1.5.0",
          "state": {
            "_model_module": "@jupyter-widgets/controls",
            "_model_module_version": "1.5.0",
            "_model_name": "DescriptionStyleModel",
            "_view_count": null,
            "_view_module": "@jupyter-widgets/base",
            "_view_module_version": "1.2.0",
            "_view_name": "StyleView",
            "description_width": ""
          }
        },
        "5d0a958fc1d64d3598a0429762163d61": {
          "model_module": "@jupyter-widgets/base",
          "model_name": "LayoutModel",
          "model_module_version": "1.2.0",
          "state": {
            "_model_module": "@jupyter-widgets/base",
            "_model_module_version": "1.2.0",
            "_model_name": "LayoutModel",
            "_view_count": null,
            "_view_module": "@jupyter-widgets/base",
            "_view_module_version": "1.2.0",
            "_view_name": "LayoutView",
            "align_content": null,
            "align_items": null,
            "align_self": null,
            "border": null,
            "bottom": null,
            "display": null,
            "flex": null,
            "flex_flow": null,
            "grid_area": null,
            "grid_auto_columns": null,
            "grid_auto_flow": null,
            "grid_auto_rows": null,
            "grid_column": null,
            "grid_gap": null,
            "grid_row": null,
            "grid_template_areas": null,
            "grid_template_columns": null,
            "grid_template_rows": null,
            "height": null,
            "justify_content": null,
            "justify_items": null,
            "left": null,
            "margin": null,
            "max_height": null,
            "max_width": null,
            "min_height": null,
            "min_width": null,
            "object_fit": null,
            "object_position": null,
            "order": null,
            "overflow": null,
            "overflow_x": null,
            "overflow_y": null,
            "padding": null,
            "right": null,
            "top": null,
            "visibility": null,
            "width": null
          }
        },
        "1c2100de96b4444eba93c5b90c4139af": {
          "model_module": "@jupyter-widgets/controls",
          "model_name": "ProgressStyleModel",
          "model_module_version": "1.5.0",
          "state": {
            "_model_module": "@jupyter-widgets/controls",
            "_model_module_version": "1.5.0",
            "_model_name": "ProgressStyleModel",
            "_view_count": null,
            "_view_module": "@jupyter-widgets/base",
            "_view_module_version": "1.2.0",
            "_view_name": "StyleView",
            "bar_color": null,
            "description_width": ""
          }
        },
        "5f71ee5cd7b343d6ba7800500c6bf4b0": {
          "model_module": "@jupyter-widgets/base",
          "model_name": "LayoutModel",
          "model_module_version": "1.2.0",
          "state": {
            "_model_module": "@jupyter-widgets/base",
            "_model_module_version": "1.2.0",
            "_model_name": "LayoutModel",
            "_view_count": null,
            "_view_module": "@jupyter-widgets/base",
            "_view_module_version": "1.2.0",
            "_view_name": "LayoutView",
            "align_content": null,
            "align_items": null,
            "align_self": null,
            "border": null,
            "bottom": null,
            "display": null,
            "flex": null,
            "flex_flow": null,
            "grid_area": null,
            "grid_auto_columns": null,
            "grid_auto_flow": null,
            "grid_auto_rows": null,
            "grid_column": null,
            "grid_gap": null,
            "grid_row": null,
            "grid_template_areas": null,
            "grid_template_columns": null,
            "grid_template_rows": null,
            "height": null,
            "justify_content": null,
            "justify_items": null,
            "left": null,
            "margin": null,
            "max_height": null,
            "max_width": null,
            "min_height": null,
            "min_width": null,
            "object_fit": null,
            "object_position": null,
            "order": null,
            "overflow": null,
            "overflow_x": null,
            "overflow_y": null,
            "padding": null,
            "right": null,
            "top": null,
            "visibility": null,
            "width": null
          }
        },
        "895ffc8e60914a118eb7215288f1aba8": {
          "model_module": "@jupyter-widgets/controls",
          "model_name": "DescriptionStyleModel",
          "model_module_version": "1.5.0",
          "state": {
            "_model_module": "@jupyter-widgets/controls",
            "_model_module_version": "1.5.0",
            "_model_name": "DescriptionStyleModel",
            "_view_count": null,
            "_view_module": "@jupyter-widgets/base",
            "_view_module_version": "1.2.0",
            "_view_name": "StyleView",
            "description_width": ""
          }
        },
        "0e5da026b54b4350a55b85ce3eb2c72d": {
          "model_module": "@jupyter-widgets/controls",
          "model_name": "HBoxModel",
          "model_module_version": "1.5.0",
          "state": {
            "_dom_classes": [],
            "_model_module": "@jupyter-widgets/controls",
            "_model_module_version": "1.5.0",
            "_model_name": "HBoxModel",
            "_view_count": null,
            "_view_module": "@jupyter-widgets/controls",
            "_view_module_version": "1.5.0",
            "_view_name": "HBoxView",
            "box_style": "",
            "children": [
              "IPY_MODEL_df0df9e40988480493e9666b2ff251a5",
              "IPY_MODEL_25912e2922a34fa593f8d7fc72b9dcb1",
              "IPY_MODEL_6a2fb9671e134823980066e07ca9935c"
            ],
            "layout": "IPY_MODEL_7d6bb2090d2a4586aa3a47d39aa6e1d8"
          }
        },
        "df0df9e40988480493e9666b2ff251a5": {
          "model_module": "@jupyter-widgets/controls",
          "model_name": "HTMLModel",
          "model_module_version": "1.5.0",
          "state": {
            "_dom_classes": [],
            "_model_module": "@jupyter-widgets/controls",
            "_model_module_version": "1.5.0",
            "_model_name": "HTMLModel",
            "_view_count": null,
            "_view_module": "@jupyter-widgets/controls",
            "_view_module_version": "1.5.0",
            "_view_name": "HTMLView",
            "description": "",
            "description_tooltip": null,
            "layout": "IPY_MODEL_9341e9ea3cf34229b6127154b97270f4",
            "placeholder": "​",
            "style": "IPY_MODEL_c4f8fbe4c2bb4bcda0d915537a339374",
            "value": "Downloading (…)olve/main/merges.txt: 100%"
          }
        },
        "25912e2922a34fa593f8d7fc72b9dcb1": {
          "model_module": "@jupyter-widgets/controls",
          "model_name": "FloatProgressModel",
          "model_module_version": "1.5.0",
          "state": {
            "_dom_classes": [],
            "_model_module": "@jupyter-widgets/controls",
            "_model_module_version": "1.5.0",
            "_model_name": "FloatProgressModel",
            "_view_count": null,
            "_view_module": "@jupyter-widgets/controls",
            "_view_module_version": "1.5.0",
            "_view_name": "ProgressView",
            "bar_style": "success",
            "description": "",
            "description_tooltip": null,
            "layout": "IPY_MODEL_be622f608a7246419fe37e90ca8c380d",
            "max": 456318,
            "min": 0,
            "orientation": "horizontal",
            "style": "IPY_MODEL_80ad4f8848f54dff8c4adb4bcc5ed492",
            "value": 456318
          }
        },
        "6a2fb9671e134823980066e07ca9935c": {
          "model_module": "@jupyter-widgets/controls",
          "model_name": "HTMLModel",
          "model_module_version": "1.5.0",
          "state": {
            "_dom_classes": [],
            "_model_module": "@jupyter-widgets/controls",
            "_model_module_version": "1.5.0",
            "_model_name": "HTMLModel",
            "_view_count": null,
            "_view_module": "@jupyter-widgets/controls",
            "_view_module_version": "1.5.0",
            "_view_name": "HTMLView",
            "description": "",
            "description_tooltip": null,
            "layout": "IPY_MODEL_1e4aa0e192054633942d5fd92dd327ef",
            "placeholder": "​",
            "style": "IPY_MODEL_2971755452704bae931d912b21d5cb81",
            "value": " 456k/456k [00:02&lt;00:00, 205kB/s]"
          }
        },
        "7d6bb2090d2a4586aa3a47d39aa6e1d8": {
          "model_module": "@jupyter-widgets/base",
          "model_name": "LayoutModel",
          "model_module_version": "1.2.0",
          "state": {
            "_model_module": "@jupyter-widgets/base",
            "_model_module_version": "1.2.0",
            "_model_name": "LayoutModel",
            "_view_count": null,
            "_view_module": "@jupyter-widgets/base",
            "_view_module_version": "1.2.0",
            "_view_name": "LayoutView",
            "align_content": null,
            "align_items": null,
            "align_self": null,
            "border": null,
            "bottom": null,
            "display": null,
            "flex": null,
            "flex_flow": null,
            "grid_area": null,
            "grid_auto_columns": null,
            "grid_auto_flow": null,
            "grid_auto_rows": null,
            "grid_column": null,
            "grid_gap": null,
            "grid_row": null,
            "grid_template_areas": null,
            "grid_template_columns": null,
            "grid_template_rows": null,
            "height": null,
            "justify_content": null,
            "justify_items": null,
            "left": null,
            "margin": null,
            "max_height": null,
            "max_width": null,
            "min_height": null,
            "min_width": null,
            "object_fit": null,
            "object_position": null,
            "order": null,
            "overflow": null,
            "overflow_x": null,
            "overflow_y": null,
            "padding": null,
            "right": null,
            "top": null,
            "visibility": null,
            "width": null
          }
        },
        "9341e9ea3cf34229b6127154b97270f4": {
          "model_module": "@jupyter-widgets/base",
          "model_name": "LayoutModel",
          "model_module_version": "1.2.0",
          "state": {
            "_model_module": "@jupyter-widgets/base",
            "_model_module_version": "1.2.0",
            "_model_name": "LayoutModel",
            "_view_count": null,
            "_view_module": "@jupyter-widgets/base",
            "_view_module_version": "1.2.0",
            "_view_name": "LayoutView",
            "align_content": null,
            "align_items": null,
            "align_self": null,
            "border": null,
            "bottom": null,
            "display": null,
            "flex": null,
            "flex_flow": null,
            "grid_area": null,
            "grid_auto_columns": null,
            "grid_auto_flow": null,
            "grid_auto_rows": null,
            "grid_column": null,
            "grid_gap": null,
            "grid_row": null,
            "grid_template_areas": null,
            "grid_template_columns": null,
            "grid_template_rows": null,
            "height": null,
            "justify_content": null,
            "justify_items": null,
            "left": null,
            "margin": null,
            "max_height": null,
            "max_width": null,
            "min_height": null,
            "min_width": null,
            "object_fit": null,
            "object_position": null,
            "order": null,
            "overflow": null,
            "overflow_x": null,
            "overflow_y": null,
            "padding": null,
            "right": null,
            "top": null,
            "visibility": null,
            "width": null
          }
        },
        "c4f8fbe4c2bb4bcda0d915537a339374": {
          "model_module": "@jupyter-widgets/controls",
          "model_name": "DescriptionStyleModel",
          "model_module_version": "1.5.0",
          "state": {
            "_model_module": "@jupyter-widgets/controls",
            "_model_module_version": "1.5.0",
            "_model_name": "DescriptionStyleModel",
            "_view_count": null,
            "_view_module": "@jupyter-widgets/base",
            "_view_module_version": "1.2.0",
            "_view_name": "StyleView",
            "description_width": ""
          }
        },
        "be622f608a7246419fe37e90ca8c380d": {
          "model_module": "@jupyter-widgets/base",
          "model_name": "LayoutModel",
          "model_module_version": "1.2.0",
          "state": {
            "_model_module": "@jupyter-widgets/base",
            "_model_module_version": "1.2.0",
            "_model_name": "LayoutModel",
            "_view_count": null,
            "_view_module": "@jupyter-widgets/base",
            "_view_module_version": "1.2.0",
            "_view_name": "LayoutView",
            "align_content": null,
            "align_items": null,
            "align_self": null,
            "border": null,
            "bottom": null,
            "display": null,
            "flex": null,
            "flex_flow": null,
            "grid_area": null,
            "grid_auto_columns": null,
            "grid_auto_flow": null,
            "grid_auto_rows": null,
            "grid_column": null,
            "grid_gap": null,
            "grid_row": null,
            "grid_template_areas": null,
            "grid_template_columns": null,
            "grid_template_rows": null,
            "height": null,
            "justify_content": null,
            "justify_items": null,
            "left": null,
            "margin": null,
            "max_height": null,
            "max_width": null,
            "min_height": null,
            "min_width": null,
            "object_fit": null,
            "object_position": null,
            "order": null,
            "overflow": null,
            "overflow_x": null,
            "overflow_y": null,
            "padding": null,
            "right": null,
            "top": null,
            "visibility": null,
            "width": null
          }
        },
        "80ad4f8848f54dff8c4adb4bcc5ed492": {
          "model_module": "@jupyter-widgets/controls",
          "model_name": "ProgressStyleModel",
          "model_module_version": "1.5.0",
          "state": {
            "_model_module": "@jupyter-widgets/controls",
            "_model_module_version": "1.5.0",
            "_model_name": "ProgressStyleModel",
            "_view_count": null,
            "_view_module": "@jupyter-widgets/base",
            "_view_module_version": "1.2.0",
            "_view_name": "StyleView",
            "bar_color": null,
            "description_width": ""
          }
        },
        "1e4aa0e192054633942d5fd92dd327ef": {
          "model_module": "@jupyter-widgets/base",
          "model_name": "LayoutModel",
          "model_module_version": "1.2.0",
          "state": {
            "_model_module": "@jupyter-widgets/base",
            "_model_module_version": "1.2.0",
            "_model_name": "LayoutModel",
            "_view_count": null,
            "_view_module": "@jupyter-widgets/base",
            "_view_module_version": "1.2.0",
            "_view_name": "LayoutView",
            "align_content": null,
            "align_items": null,
            "align_self": null,
            "border": null,
            "bottom": null,
            "display": null,
            "flex": null,
            "flex_flow": null,
            "grid_area": null,
            "grid_auto_columns": null,
            "grid_auto_flow": null,
            "grid_auto_rows": null,
            "grid_column": null,
            "grid_gap": null,
            "grid_row": null,
            "grid_template_areas": null,
            "grid_template_columns": null,
            "grid_template_rows": null,
            "height": null,
            "justify_content": null,
            "justify_items": null,
            "left": null,
            "margin": null,
            "max_height": null,
            "max_width": null,
            "min_height": null,
            "min_width": null,
            "object_fit": null,
            "object_position": null,
            "order": null,
            "overflow": null,
            "overflow_x": null,
            "overflow_y": null,
            "padding": null,
            "right": null,
            "top": null,
            "visibility": null,
            "width": null
          }
        },
        "2971755452704bae931d912b21d5cb81": {
          "model_module": "@jupyter-widgets/controls",
          "model_name": "DescriptionStyleModel",
          "model_module_version": "1.5.0",
          "state": {
            "_model_module": "@jupyter-widgets/controls",
            "_model_module_version": "1.5.0",
            "_model_name": "DescriptionStyleModel",
            "_view_count": null,
            "_view_module": "@jupyter-widgets/base",
            "_view_module_version": "1.2.0",
            "_view_name": "StyleView",
            "description_width": ""
          }
        },
        "441eabaf0468446ebfdc061a0ec764b6": {
          "model_module": "@jupyter-widgets/controls",
          "model_name": "HBoxModel",
          "model_module_version": "1.5.0",
          "state": {
            "_dom_classes": [],
            "_model_module": "@jupyter-widgets/controls",
            "_model_module_version": "1.5.0",
            "_model_name": "HBoxModel",
            "_view_count": null,
            "_view_module": "@jupyter-widgets/controls",
            "_view_module_version": "1.5.0",
            "_view_name": "HBoxView",
            "box_style": "",
            "children": [
              "IPY_MODEL_e04607af18a241ebbf907f4ba6813c13",
              "IPY_MODEL_1347e7af3193486a84b648dc5e9d014b",
              "IPY_MODEL_a72607ab34a04efebbed4ffdc3a1cafe"
            ],
            "layout": "IPY_MODEL_cdb3d92c3a2b4c549b8358b3cc2c906d"
          }
        },
        "e04607af18a241ebbf907f4ba6813c13": {
          "model_module": "@jupyter-widgets/controls",
          "model_name": "HTMLModel",
          "model_module_version": "1.5.0",
          "state": {
            "_dom_classes": [],
            "_model_module": "@jupyter-widgets/controls",
            "_model_module_version": "1.5.0",
            "_model_name": "HTMLModel",
            "_view_count": null,
            "_view_module": "@jupyter-widgets/controls",
            "_view_module_version": "1.5.0",
            "_view_name": "HTMLView",
            "description": "",
            "description_tooltip": null,
            "layout": "IPY_MODEL_875d41f27bf9480894540d50e30dd0d5",
            "placeholder": "​",
            "style": "IPY_MODEL_97b1f8cbbbad4d2699dcfc0a2ea00934",
            "value": "Downloading (…)cial_tokens_map.json: 100%"
          }
        },
        "1347e7af3193486a84b648dc5e9d014b": {
          "model_module": "@jupyter-widgets/controls",
          "model_name": "FloatProgressModel",
          "model_module_version": "1.5.0",
          "state": {
            "_dom_classes": [],
            "_model_module": "@jupyter-widgets/controls",
            "_model_module_version": "1.5.0",
            "_model_name": "FloatProgressModel",
            "_view_count": null,
            "_view_module": "@jupyter-widgets/controls",
            "_view_module_version": "1.5.0",
            "_view_name": "ProgressView",
            "bar_style": "success",
            "description": "",
            "description_tooltip": null,
            "layout": "IPY_MODEL_cbfebe02662b4360bcfd23690f038bfb",
            "max": 150,
            "min": 0,
            "orientation": "horizontal",
            "style": "IPY_MODEL_1dcfdd9f4a3d4975a5cca7a882c174cd",
            "value": 150
          }
        },
        "a72607ab34a04efebbed4ffdc3a1cafe": {
          "model_module": "@jupyter-widgets/controls",
          "model_name": "HTMLModel",
          "model_module_version": "1.5.0",
          "state": {
            "_dom_classes": [],
            "_model_module": "@jupyter-widgets/controls",
            "_model_module_version": "1.5.0",
            "_model_name": "HTMLModel",
            "_view_count": null,
            "_view_module": "@jupyter-widgets/controls",
            "_view_module_version": "1.5.0",
            "_view_name": "HTMLView",
            "description": "",
            "description_tooltip": null,
            "layout": "IPY_MODEL_465402286cc34e55a137cefa35408418",
            "placeholder": "​",
            "style": "IPY_MODEL_0491d666d91040e09d15eeea8ff415f3",
            "value": " 150/150 [00:00&lt;00:00, 8.63kB/s]"
          }
        },
        "cdb3d92c3a2b4c549b8358b3cc2c906d": {
          "model_module": "@jupyter-widgets/base",
          "model_name": "LayoutModel",
          "model_module_version": "1.2.0",
          "state": {
            "_model_module": "@jupyter-widgets/base",
            "_model_module_version": "1.2.0",
            "_model_name": "LayoutModel",
            "_view_count": null,
            "_view_module": "@jupyter-widgets/base",
            "_view_module_version": "1.2.0",
            "_view_name": "LayoutView",
            "align_content": null,
            "align_items": null,
            "align_self": null,
            "border": null,
            "bottom": null,
            "display": null,
            "flex": null,
            "flex_flow": null,
            "grid_area": null,
            "grid_auto_columns": null,
            "grid_auto_flow": null,
            "grid_auto_rows": null,
            "grid_column": null,
            "grid_gap": null,
            "grid_row": null,
            "grid_template_areas": null,
            "grid_template_columns": null,
            "grid_template_rows": null,
            "height": null,
            "justify_content": null,
            "justify_items": null,
            "left": null,
            "margin": null,
            "max_height": null,
            "max_width": null,
            "min_height": null,
            "min_width": null,
            "object_fit": null,
            "object_position": null,
            "order": null,
            "overflow": null,
            "overflow_x": null,
            "overflow_y": null,
            "padding": null,
            "right": null,
            "top": null,
            "visibility": null,
            "width": null
          }
        },
        "875d41f27bf9480894540d50e30dd0d5": {
          "model_module": "@jupyter-widgets/base",
          "model_name": "LayoutModel",
          "model_module_version": "1.2.0",
          "state": {
            "_model_module": "@jupyter-widgets/base",
            "_model_module_version": "1.2.0",
            "_model_name": "LayoutModel",
            "_view_count": null,
            "_view_module": "@jupyter-widgets/base",
            "_view_module_version": "1.2.0",
            "_view_name": "LayoutView",
            "align_content": null,
            "align_items": null,
            "align_self": null,
            "border": null,
            "bottom": null,
            "display": null,
            "flex": null,
            "flex_flow": null,
            "grid_area": null,
            "grid_auto_columns": null,
            "grid_auto_flow": null,
            "grid_auto_rows": null,
            "grid_column": null,
            "grid_gap": null,
            "grid_row": null,
            "grid_template_areas": null,
            "grid_template_columns": null,
            "grid_template_rows": null,
            "height": null,
            "justify_content": null,
            "justify_items": null,
            "left": null,
            "margin": null,
            "max_height": null,
            "max_width": null,
            "min_height": null,
            "min_width": null,
            "object_fit": null,
            "object_position": null,
            "order": null,
            "overflow": null,
            "overflow_x": null,
            "overflow_y": null,
            "padding": null,
            "right": null,
            "top": null,
            "visibility": null,
            "width": null
          }
        },
        "97b1f8cbbbad4d2699dcfc0a2ea00934": {
          "model_module": "@jupyter-widgets/controls",
          "model_name": "DescriptionStyleModel",
          "model_module_version": "1.5.0",
          "state": {
            "_model_module": "@jupyter-widgets/controls",
            "_model_module_version": "1.5.0",
            "_model_name": "DescriptionStyleModel",
            "_view_count": null,
            "_view_module": "@jupyter-widgets/base",
            "_view_module_version": "1.2.0",
            "_view_name": "StyleView",
            "description_width": ""
          }
        },
        "cbfebe02662b4360bcfd23690f038bfb": {
          "model_module": "@jupyter-widgets/base",
          "model_name": "LayoutModel",
          "model_module_version": "1.2.0",
          "state": {
            "_model_module": "@jupyter-widgets/base",
            "_model_module_version": "1.2.0",
            "_model_name": "LayoutModel",
            "_view_count": null,
            "_view_module": "@jupyter-widgets/base",
            "_view_module_version": "1.2.0",
            "_view_name": "LayoutView",
            "align_content": null,
            "align_items": null,
            "align_self": null,
            "border": null,
            "bottom": null,
            "display": null,
            "flex": null,
            "flex_flow": null,
            "grid_area": null,
            "grid_auto_columns": null,
            "grid_auto_flow": null,
            "grid_auto_rows": null,
            "grid_column": null,
            "grid_gap": null,
            "grid_row": null,
            "grid_template_areas": null,
            "grid_template_columns": null,
            "grid_template_rows": null,
            "height": null,
            "justify_content": null,
            "justify_items": null,
            "left": null,
            "margin": null,
            "max_height": null,
            "max_width": null,
            "min_height": null,
            "min_width": null,
            "object_fit": null,
            "object_position": null,
            "order": null,
            "overflow": null,
            "overflow_x": null,
            "overflow_y": null,
            "padding": null,
            "right": null,
            "top": null,
            "visibility": null,
            "width": null
          }
        },
        "1dcfdd9f4a3d4975a5cca7a882c174cd": {
          "model_module": "@jupyter-widgets/controls",
          "model_name": "ProgressStyleModel",
          "model_module_version": "1.5.0",
          "state": {
            "_model_module": "@jupyter-widgets/controls",
            "_model_module_version": "1.5.0",
            "_model_name": "ProgressStyleModel",
            "_view_count": null,
            "_view_module": "@jupyter-widgets/base",
            "_view_module_version": "1.2.0",
            "_view_name": "StyleView",
            "bar_color": null,
            "description_width": ""
          }
        },
        "465402286cc34e55a137cefa35408418": {
          "model_module": "@jupyter-widgets/base",
          "model_name": "LayoutModel",
          "model_module_version": "1.2.0",
          "state": {
            "_model_module": "@jupyter-widgets/base",
            "_model_module_version": "1.2.0",
            "_model_name": "LayoutModel",
            "_view_count": null,
            "_view_module": "@jupyter-widgets/base",
            "_view_module_version": "1.2.0",
            "_view_name": "LayoutView",
            "align_content": null,
            "align_items": null,
            "align_self": null,
            "border": null,
            "bottom": null,
            "display": null,
            "flex": null,
            "flex_flow": null,
            "grid_area": null,
            "grid_auto_columns": null,
            "grid_auto_flow": null,
            "grid_auto_rows": null,
            "grid_column": null,
            "grid_gap": null,
            "grid_row": null,
            "grid_template_areas": null,
            "grid_template_columns": null,
            "grid_template_rows": null,
            "height": null,
            "justify_content": null,
            "justify_items": null,
            "left": null,
            "margin": null,
            "max_height": null,
            "max_width": null,
            "min_height": null,
            "min_width": null,
            "object_fit": null,
            "object_position": null,
            "order": null,
            "overflow": null,
            "overflow_x": null,
            "overflow_y": null,
            "padding": null,
            "right": null,
            "top": null,
            "visibility": null,
            "width": null
          }
        },
        "0491d666d91040e09d15eeea8ff415f3": {
          "model_module": "@jupyter-widgets/controls",
          "model_name": "DescriptionStyleModel",
          "model_module_version": "1.5.0",
          "state": {
            "_model_module": "@jupyter-widgets/controls",
            "_model_module_version": "1.5.0",
            "_model_name": "DescriptionStyleModel",
            "_view_count": null,
            "_view_module": "@jupyter-widgets/base",
            "_view_module_version": "1.2.0",
            "_view_name": "StyleView",
            "description_width": ""
          }
        }
      }
    }
  },
  "cells": [
    {
      "cell_type": "markdown",
      "metadata": {
        "id": "view-in-github",
        "colab_type": "text"
      },
      "source": [
        "<a href=\"https://colab.research.google.com/github/lukasoares/Twitter_Sentiment_Analysys_With_Roberta/blob/main/TwitterSentimentAnalysysWithRoberta.ipynb\" target=\"_parent\"><img src=\"https://colab.research.google.com/assets/colab-badge.svg\" alt=\"Open In Colab\"/></a>"
      ]
    },
    {
      "cell_type": "markdown",
      "source": [
        "##Instalando e importando as bibliotecas"
      ],
      "metadata": {
        "id": "2t6A0jDpGOmK"
      }
    },
    {
      "cell_type": "code",
      "execution_count": 2,
      "metadata": {
        "colab": {
          "base_uri": "https://localhost:8080/"
        },
        "id": "eRk0yrQLQ0pK",
        "outputId": "2acc8eec-3862-47c7-a777-e7ea29c2e1a3"
      },
      "outputs": [
        {
          "output_type": "stream",
          "name": "stdout",
          "text": [
            "Looking in indexes: https://pypi.org/simple, https://us-python.pkg.dev/colab-wheels/public/simple/\n",
            "Collecting tweepy==4.5.0\n",
            "  Downloading tweepy-4.5.0-py2.py3-none-any.whl (66 kB)\n",
            "\u001b[2K     \u001b[90m━━━━━━━━━━━━━━━━━━━━━━━━━━━━━━━━━━━━━━━━\u001b[0m \u001b[32m66.0/66.0 KB\u001b[0m \u001b[31m5.9 MB/s\u001b[0m eta \u001b[36m0:00:00\u001b[0m\n",
            "\u001b[?25hRequirement already satisfied: requests-oauthlib<2,>=1.0.0 in /usr/local/lib/python3.9/dist-packages (from tweepy==4.5.0) (1.3.1)\n",
            "Requirement already satisfied: requests<3,>=2.27.0 in /usr/local/lib/python3.9/dist-packages (from tweepy==4.5.0) (2.27.1)\n",
            "Requirement already satisfied: charset-normalizer~=2.0.0 in /usr/local/lib/python3.9/dist-packages (from requests<3,>=2.27.0->tweepy==4.5.0) (2.0.12)\n",
            "Requirement already satisfied: urllib3<1.27,>=1.21.1 in /usr/local/lib/python3.9/dist-packages (from requests<3,>=2.27.0->tweepy==4.5.0) (1.26.15)\n",
            "Requirement already satisfied: certifi>=2017.4.17 in /usr/local/lib/python3.9/dist-packages (from requests<3,>=2.27.0->tweepy==4.5.0) (2022.12.7)\n",
            "Requirement already satisfied: idna<4,>=2.5 in /usr/local/lib/python3.9/dist-packages (from requests<3,>=2.27.0->tweepy==4.5.0) (3.4)\n",
            "Requirement already satisfied: oauthlib>=3.0.0 in /usr/local/lib/python3.9/dist-packages (from requests-oauthlib<2,>=1.0.0->tweepy==4.5.0) (3.2.2)\n",
            "Installing collected packages: tweepy\n",
            "  Attempting uninstall: tweepy\n",
            "    Found existing installation: tweepy 4.13.0\n",
            "    Uninstalling tweepy-4.13.0:\n",
            "      Successfully uninstalled tweepy-4.13.0\n",
            "Successfully installed tweepy-4.5.0\n",
            "Looking in indexes: https://pypi.org/simple, https://us-python.pkg.dev/colab-wheels/public/simple/\n",
            "Collecting transformers\n",
            "  Downloading transformers-4.27.2-py3-none-any.whl (6.8 MB)\n",
            "\u001b[2K     \u001b[90m━━━━━━━━━━━━━━━━━━━━━━━━━━━━━━━━━━━━━━━━\u001b[0m \u001b[32m6.8/6.8 MB\u001b[0m \u001b[31m73.2 MB/s\u001b[0m eta \u001b[36m0:00:00\u001b[0m\n",
            "\u001b[?25hRequirement already satisfied: numpy>=1.17 in /usr/local/lib/python3.9/dist-packages (from transformers) (1.22.4)\n",
            "Requirement already satisfied: pyyaml>=5.1 in /usr/local/lib/python3.9/dist-packages (from transformers) (6.0)\n",
            "Requirement already satisfied: packaging>=20.0 in /usr/local/lib/python3.9/dist-packages (from transformers) (23.0)\n",
            "Collecting tokenizers!=0.11.3,<0.14,>=0.11.1\n",
            "  Downloading tokenizers-0.13.2-cp39-cp39-manylinux_2_17_x86_64.manylinux2014_x86_64.whl (7.6 MB)\n",
            "\u001b[2K     \u001b[90m━━━━━━━━━━━━━━━━━━━━━━━━━━━━━━━━━━━━━━━━\u001b[0m \u001b[32m7.6/7.6 MB\u001b[0m \u001b[31m80.6 MB/s\u001b[0m eta \u001b[36m0:00:00\u001b[0m\n",
            "\u001b[?25hRequirement already satisfied: filelock in /usr/local/lib/python3.9/dist-packages (from transformers) (3.10.0)\n",
            "Requirement already satisfied: requests in /usr/local/lib/python3.9/dist-packages (from transformers) (2.27.1)\n",
            "Requirement already satisfied: regex!=2019.12.17 in /usr/local/lib/python3.9/dist-packages (from transformers) (2022.10.31)\n",
            "Requirement already satisfied: tqdm>=4.27 in /usr/local/lib/python3.9/dist-packages (from transformers) (4.65.0)\n",
            "Collecting huggingface-hub<1.0,>=0.11.0\n",
            "  Downloading huggingface_hub-0.13.3-py3-none-any.whl (199 kB)\n",
            "\u001b[2K     \u001b[90m━━━━━━━━━━━━━━━━━━━━━━━━━━━━━━━━━━━━━━\u001b[0m \u001b[32m199.8/199.8 KB\u001b[0m \u001b[31m15.7 MB/s\u001b[0m eta \u001b[36m0:00:00\u001b[0m\n",
            "\u001b[?25hRequirement already satisfied: typing-extensions>=3.7.4.3 in /usr/local/lib/python3.9/dist-packages (from huggingface-hub<1.0,>=0.11.0->transformers) (4.5.0)\n",
            "Requirement already satisfied: certifi>=2017.4.17 in /usr/local/lib/python3.9/dist-packages (from requests->transformers) (2022.12.7)\n",
            "Requirement already satisfied: urllib3<1.27,>=1.21.1 in /usr/local/lib/python3.9/dist-packages (from requests->transformers) (1.26.15)\n",
            "Requirement already satisfied: charset-normalizer~=2.0.0 in /usr/local/lib/python3.9/dist-packages (from requests->transformers) (2.0.12)\n",
            "Requirement already satisfied: idna<4,>=2.5 in /usr/local/lib/python3.9/dist-packages (from requests->transformers) (3.4)\n",
            "Installing collected packages: tokenizers, huggingface-hub, transformers\n",
            "Successfully installed huggingface-hub-0.13.3 tokenizers-0.13.2 transformers-4.27.2\n"
          ]
        },
        {
          "output_type": "stream",
          "name": "stderr",
          "text": [
            "[nltk_data] Downloading package stopwords to /root/nltk_data...\n",
            "[nltk_data]   Package stopwords is already up-to-date!\n",
            "[nltk_data] Downloading package punkt to /root/nltk_data...\n",
            "[nltk_data]   Package punkt is already up-to-date!\n",
            "[nltk_data] Downloading package averaged_perceptron_tagger to\n",
            "[nltk_data]     /root/nltk_data...\n",
            "[nltk_data]   Package averaged_perceptron_tagger is already up-to-\n",
            "[nltk_data]       date!\n"
          ]
        }
      ],
      "source": [
        "!pip install tweepy==4.5.0 --upgrade\n",
        "!pip install transformers\n",
        "import tweepy as tw\n",
        "import pandas as pd\n",
        "from nltk.tokenize import word_tokenize\n",
        "import nltk \n",
        "from nltk.corpus import stopwords\n",
        "nltk.download('stopwords')\n",
        "nltk.download('punkt')\n",
        "nltk.download('averaged_perceptron_tagger')\n",
        "from string import punctuation\n",
        "from wordcloud import WordCloud, ImageColorGenerator\n",
        "import numpy as np\n",
        "import matplotlib.pyplot as plt\n",
        "from PIL import Image\n",
        "from PIL import ImageOps\n",
        "from transformers import AutoTokenizer, AutoModelForSequenceClassification\n",
        "import torch\n",
        "from scipy.special import softmax\n",
        "import plotly.express as px"
      ]
    },
    {
      "cell_type": "code",
      "source": [
        "!pip install -U kaleido"
      ],
      "metadata": {
        "colab": {
          "base_uri": "https://localhost:8080/"
        },
        "id": "EbkoHKXRzDJk",
        "outputId": "3be43627-0b73-4900-a989-979a407636e4"
      },
      "execution_count": 3,
      "outputs": [
        {
          "output_type": "stream",
          "name": "stdout",
          "text": [
            "Looking in indexes: https://pypi.org/simple, https://us-python.pkg.dev/colab-wheels/public/simple/\n",
            "Requirement already satisfied: kaleido in /usr/local/lib/python3.9/dist-packages (0.2.1)\n"
          ]
        }
      ]
    },
    {
      "cell_type": "markdown",
      "source": [
        "##Fazendo a autenticação pela API do Twitter\n",
        "Como são dados sensíveis de acesso a uma conta, retirei os dados de autenticação de um documento utilizando \"with open\"."
      ],
      "metadata": {
        "id": "GTq8G1mtG3t4"
      }
    },
    {
      "cell_type": "code",
      "source": [
        "with open('twitter-chaves.txt', 'r') as tchaves:\n",
        "  consumer_key = tchaves.readline().strip('\\n')\n",
        "  consumer_secret_key = tchaves.readline().strip('\\n')\n",
        "  bearer_token = tchaves.readline().strip('\\n')\n",
        "  access_token = tchaves.readline().strip('\\n')\n",
        "  access_token_secret = tchaves.readline().strip('\\n')"
      ],
      "metadata": {
        "id": "bBSrDR96RJSF"
      },
      "execution_count": null,
      "outputs": []
    },
    {
      "cell_type": "code",
      "source": [
        "client = tw.Client(bearer_token= bearer_token, consumer_key = consumer_key, consumer_secret= consumer_secret_key, access_token= access_token, access_token_secret = access_token_secret,wait_on_rate_limit=True)"
      ],
      "metadata": {
        "id": "5Xub-8FhRWiO"
      },
      "execution_count": null,
      "outputs": []
    },
    {
      "cell_type": "markdown",
      "source": [
        "##Consulta e extração dos tweets"
      ],
      "metadata": {
        "id": "m9UZnq1rHqWx"
      }
    },
    {
      "cell_type": "markdown",
      "source": [
        "A consulta utilizada foi \"the last of us\", retirando os retweets com o parâmetro \"-is:retweet\" e buscando apenas no idioma inglês com o parâmetro \"lang:en\".\n",
        "\n",
        "Por padrão, as informações dos tweets coletados contêm o ID da postagem e o campo de texto. Para adquirir outras informações, foi necessário especificá-las por meio do uso dos parâmetros 'fields' ou pelo argumento 'expansions'. Neste exemplo, foram adicionados a data de criação da postagem ('tweet_fields = ['created_at']), a localização do usuário ('user_fields = ['location']), o ID do usuário ('author_id') e um resultado de 100 tweets por pesquisa ('max_results = 100'). A coleta de dados pode ser personalizada de várias maneiras, e para obter mais informações sobre os 'fields', acesse o seguinte link: https://developer.twitter.com/en/docs/twitter-api/fields"
      ],
      "metadata": {
        "id": "NpXpz9aEHmma"
      }
    },
    {
      "cell_type": "code",
      "source": [
        "nome = []\n",
        "localizacao =[]\n",
        "textos = []\n",
        "creat_at = []\n",
        "user_id = []"
      ],
      "metadata": {
        "id": "SBB75rI1RUOQ"
      },
      "execution_count": null,
      "outputs": []
    },
    {
      "cell_type": "code",
      "source": [
        "response = client.search_recent_tweets(query=\"the last of us -is:retweet lang:en\", tweet_fields=['id', 'created_at'], expansions=['author_id', 'geo.place_id'],\n",
        "                                       user_fields=['location', 'username'], max_results=100, start_time = '2023-03-15T00:00:01Z', end_time = '2023-03-21T00:00:00Z')"
      ],
      "metadata": {
        "id": "-9FPMbEBRbhr"
      },
      "execution_count": null,
      "outputs": []
    },
    {
      "cell_type": "code",
      "source": [
        "users = {u['id'] : u for u in response.includes['users']}"
      ],
      "metadata": {
        "id": "bgQYqQrKRnnv"
      },
      "execution_count": null,
      "outputs": []
    },
    {
      "cell_type": "code",
      "source": [
        "for tweet in response.data:\n",
        "# Com o dicionário \"users\" com as informações dos usuários criado, podemos mapear essas informações utilizando\n",
        "# o id do usuário que também esta presente na variável que criamos no laço 'tweet'.\n",
        "  if users[tweet.author_id]:\n",
        "    user = users[tweet.author_id]\n",
        "    nome.append(user.username)\n",
        "    localizacao.append(user.location)\n",
        "  user_id.append(tweet.author_id)\n",
        "  textos.append(tweet.text)\n",
        "  creat_at.append(tweet.created_at)"
      ],
      "metadata": {
        "id": "xFIHRuoiRpOn"
      },
      "execution_count": null,
      "outputs": []
    },
    {
      "cell_type": "markdown",
      "source": [
        "Para que seja possível colhetar mais de 100 tweets, foi utilizado o método \"meta\" que extrai metadados (dados sobre os dados) da resposta de uma solicitação à API do Twitter e armazena esses metadados em uma variável chamada 'metadata'.\n",
        "\n",
        "A próxima linha de código, 'next_token = metadata.get('next_token')', extrai o valor do token de paginação 'next_token' do dicionário 'metadata' e armazena o valor do token em uma variável chamada 'next_token'. O token de paginação é um valor exclusivo que é gerado pela API do Twitter e permite que os usuários paginem pelos resultados de suas solicitações de API.\n"
      ],
      "metadata": {
        "id": "l80RKKevKyeH"
      }
    },
    {
      "cell_type": "code",
      "source": [
        "metadata = response.meta\n",
        "\n",
        "next_token = metadata.get('next_token')"
      ],
      "metadata": {
        "id": "Oc6QBM6RRsNN"
      },
      "execution_count": null,
      "outputs": []
    },
    {
      "cell_type": "markdown",
      "source": [
        "Foi construído um loop 'while' que funciona enquanto a variável 'next_token' tiver um valor. Isso significa que o loop irá executar enquanto houver páginas de comentários a serem extraídas. Além disso, o loop será interrompido se o número de solicitações feitas à API do Twitter alcançar 500 ou se o número de páginas extraídas atingir 500."
      ],
      "metadata": {
        "id": "B17ebsbzL3_o"
      }
    },
    {
      "cell_type": "code",
      "source": [
        "max_requests = 500  # Definir o limite de solicitações\n",
        "num_requests = 0  # Inicializar o número de solicitações realizadas\n",
        "\n",
        "while next_token is not None and num_requests < max_requests:\n",
        "  response = client.search_recent_tweets(query=\"the last of us -is:retweet lang:en\", tweet_fields=['id', 'created_at'], expansions=['author_id', 'geo.place_id'],\n",
        "                                       user_fields=['location', 'username'], max_results=100,\n",
        "                                       next_token=next_token)\n",
        "  users = {\n",
        "  u['id']: u for u in response.includes['users']}\n",
        "  \n",
        "  for tweet in response.data:\n",
        "    if users[tweet.author_id]:\n",
        "      user = users[tweet.author_id]\n",
        "      nome.append(user.username)\n",
        "      localizacao.append(user.location)\n",
        "    user_id.append(tweet.author_id)\n",
        "    textos.append(tweet.text)\n",
        "    creat_at.append(tweet.created_at)\n",
        "    metadata = response.meta\n",
        "\n",
        "  next_token = metadata.get('next_token')\n",
        "  num_requests += 1  # Aumentar o número de solicitações realizadas\n",
        "  print(next_token)"
      ],
      "metadata": {
        "id": "f8wWiscvRuTJ"
      },
      "execution_count": null,
      "outputs": []
    },
    {
      "cell_type": "markdown",
      "source": [
        "E foi criado um DataFrame com as listas com os dados adquiridos"
      ],
      "metadata": {
        "id": "JBC1X3NnMvOQ"
      }
    },
    {
      "cell_type": "code",
      "source": [
        "df_novo=pd.DataFrame({'Textos' : textos, 'Usuário' : nome, 'Criado em': creat_at, \"Localização\" : localizacao, 'user_id': user_id})\n",
        "df_novo.drop_duplicates(inplace= True)\n",
        "df_novo"
      ],
      "metadata": {
        "colab": {
          "base_uri": "https://localhost:8080/",
          "height": 424
        },
        "id": "yY8AJDLDSt6p",
        "outputId": "39069af5-e804-45cf-efce-5593a0c850ba"
      },
      "execution_count": null,
      "outputs": [
        {
          "output_type": "execute_result",
          "data": {
            "text/plain": [
              "                                                  Textos         Usuário  \\\n",
              "0      I really don’t understand the microcosm of Tex...  HTXSportsSpeak   \n",
              "1      The Long Dark + The Last of Us…is basically ju...     CallMeFebel   \n",
              "2      @Envious i had someone come out last week and ...          ki__en   \n",
              "3      Was invited to discuss The Last of Us S1 on Th...    drewXdeficit   \n",
              "4      The last autograph I got at the Spectacular wa...     crawlyscubs   \n",
              "...                                                  ...             ...   \n",
              "48817  New story on NPR: 'The Last of Us' game actors...     danchamorro   \n",
              "48818  @MerleDandridge @clmazin @TheLastofUsHBO You w...       rshah2611   \n",
              "48819  @kevinboor54 @BlackstonesMDL @HucknallTownFc @...         sean48w   \n",
              "48820  @MichaelM238 The Last of Us Remastered is, I t...    WillFletchUK   \n",
              "48821  finished the last of us part 1 replay… part 2 ...       rillsrill   \n",
              "\n",
              "                      Criado em          Localização              user_id  \n",
              "0     2023-03-20 23:59:45+00:00                 None  1579000206036811783  \n",
              "1     2023-03-20 23:59:22+00:00                 Ohio   954792626514989058  \n",
              "2     2023-03-20 23:59:20+00:00                 aniღ            752325528  \n",
              "3     2023-03-20 23:59:10+00:00          Saint Louis             87861464  \n",
              "4     2023-03-20 23:59:08+00:00    1060 West Addison            277814587  \n",
              "...                         ...                  ...                  ...  \n",
              "48817 2023-03-16 09:47:46+00:00            Charlotte            402866035  \n",
              "48818 2023-03-16 09:47:25+00:00       Mumbai, India            1730193692  \n",
              "48819 2023-03-16 09:47:23+00:00                 None            714479624  \n",
              "48820 2023-03-16 09:47:05+00:00  Derbyshire & London             23935768  \n",
              "48821 2023-03-16 09:47:00+00:00            san diego  1184967299570102272  \n",
              "\n",
              "[48814 rows x 5 columns]"
            ],
            "text/html": [
              "\n",
              "  <div id=\"df-ff40af70-f8ef-46d0-af35-0fb7856f06e4\">\n",
              "    <div class=\"colab-df-container\">\n",
              "      <div>\n",
              "<style scoped>\n",
              "    .dataframe tbody tr th:only-of-type {\n",
              "        vertical-align: middle;\n",
              "    }\n",
              "\n",
              "    .dataframe tbody tr th {\n",
              "        vertical-align: top;\n",
              "    }\n",
              "\n",
              "    .dataframe thead th {\n",
              "        text-align: right;\n",
              "    }\n",
              "</style>\n",
              "<table border=\"1\" class=\"dataframe\">\n",
              "  <thead>\n",
              "    <tr style=\"text-align: right;\">\n",
              "      <th></th>\n",
              "      <th>Textos</th>\n",
              "      <th>Usuário</th>\n",
              "      <th>Criado em</th>\n",
              "      <th>Localização</th>\n",
              "      <th>user_id</th>\n",
              "    </tr>\n",
              "  </thead>\n",
              "  <tbody>\n",
              "    <tr>\n",
              "      <th>0</th>\n",
              "      <td>I really don’t understand the microcosm of Tex...</td>\n",
              "      <td>HTXSportsSpeak</td>\n",
              "      <td>2023-03-20 23:59:45+00:00</td>\n",
              "      <td>None</td>\n",
              "      <td>1579000206036811783</td>\n",
              "    </tr>\n",
              "    <tr>\n",
              "      <th>1</th>\n",
              "      <td>The Long Dark + The Last of Us…is basically ju...</td>\n",
              "      <td>CallMeFebel</td>\n",
              "      <td>2023-03-20 23:59:22+00:00</td>\n",
              "      <td>Ohio</td>\n",
              "      <td>954792626514989058</td>\n",
              "    </tr>\n",
              "    <tr>\n",
              "      <th>2</th>\n",
              "      <td>@Envious i had someone come out last week and ...</td>\n",
              "      <td>ki__en</td>\n",
              "      <td>2023-03-20 23:59:20+00:00</td>\n",
              "      <td>aniღ</td>\n",
              "      <td>752325528</td>\n",
              "    </tr>\n",
              "    <tr>\n",
              "      <th>3</th>\n",
              "      <td>Was invited to discuss The Last of Us S1 on Th...</td>\n",
              "      <td>drewXdeficit</td>\n",
              "      <td>2023-03-20 23:59:10+00:00</td>\n",
              "      <td>Saint Louis</td>\n",
              "      <td>87861464</td>\n",
              "    </tr>\n",
              "    <tr>\n",
              "      <th>4</th>\n",
              "      <td>The last autograph I got at the Spectacular wa...</td>\n",
              "      <td>crawlyscubs</td>\n",
              "      <td>2023-03-20 23:59:08+00:00</td>\n",
              "      <td>1060 West Addison</td>\n",
              "      <td>277814587</td>\n",
              "    </tr>\n",
              "    <tr>\n",
              "      <th>...</th>\n",
              "      <td>...</td>\n",
              "      <td>...</td>\n",
              "      <td>...</td>\n",
              "      <td>...</td>\n",
              "      <td>...</td>\n",
              "    </tr>\n",
              "    <tr>\n",
              "      <th>48817</th>\n",
              "      <td>New story on NPR: 'The Last of Us' game actors...</td>\n",
              "      <td>danchamorro</td>\n",
              "      <td>2023-03-16 09:47:46+00:00</td>\n",
              "      <td>Charlotte</td>\n",
              "      <td>402866035</td>\n",
              "    </tr>\n",
              "    <tr>\n",
              "      <th>48818</th>\n",
              "      <td>@MerleDandridge @clmazin @TheLastofUsHBO You w...</td>\n",
              "      <td>rshah2611</td>\n",
              "      <td>2023-03-16 09:47:25+00:00</td>\n",
              "      <td>Mumbai, India</td>\n",
              "      <td>1730193692</td>\n",
              "    </tr>\n",
              "    <tr>\n",
              "      <th>48819</th>\n",
              "      <td>@kevinboor54 @BlackstonesMDL @HucknallTownFc @...</td>\n",
              "      <td>sean48w</td>\n",
              "      <td>2023-03-16 09:47:23+00:00</td>\n",
              "      <td>None</td>\n",
              "      <td>714479624</td>\n",
              "    </tr>\n",
              "    <tr>\n",
              "      <th>48820</th>\n",
              "      <td>@MichaelM238 The Last of Us Remastered is, I t...</td>\n",
              "      <td>WillFletchUK</td>\n",
              "      <td>2023-03-16 09:47:05+00:00</td>\n",
              "      <td>Derbyshire &amp; London</td>\n",
              "      <td>23935768</td>\n",
              "    </tr>\n",
              "    <tr>\n",
              "      <th>48821</th>\n",
              "      <td>finished the last of us part 1 replay… part 2 ...</td>\n",
              "      <td>rillsrill</td>\n",
              "      <td>2023-03-16 09:47:00+00:00</td>\n",
              "      <td>san diego</td>\n",
              "      <td>1184967299570102272</td>\n",
              "    </tr>\n",
              "  </tbody>\n",
              "</table>\n",
              "<p>48814 rows × 5 columns</p>\n",
              "</div>\n",
              "      <button class=\"colab-df-convert\" onclick=\"convertToInteractive('df-ff40af70-f8ef-46d0-af35-0fb7856f06e4')\"\n",
              "              title=\"Convert this dataframe to an interactive table.\"\n",
              "              style=\"display:none;\">\n",
              "        \n",
              "  <svg xmlns=\"http://www.w3.org/2000/svg\" height=\"24px\"viewBox=\"0 0 24 24\"\n",
              "       width=\"24px\">\n",
              "    <path d=\"M0 0h24v24H0V0z\" fill=\"none\"/>\n",
              "    <path d=\"M18.56 5.44l.94 2.06.94-2.06 2.06-.94-2.06-.94-.94-2.06-.94 2.06-2.06.94zm-11 1L8.5 8.5l.94-2.06 2.06-.94-2.06-.94L8.5 2.5l-.94 2.06-2.06.94zm10 10l.94 2.06.94-2.06 2.06-.94-2.06-.94-.94-2.06-.94 2.06-2.06.94z\"/><path d=\"M17.41 7.96l-1.37-1.37c-.4-.4-.92-.59-1.43-.59-.52 0-1.04.2-1.43.59L10.3 9.45l-7.72 7.72c-.78.78-.78 2.05 0 2.83L4 21.41c.39.39.9.59 1.41.59.51 0 1.02-.2 1.41-.59l7.78-7.78 2.81-2.81c.8-.78.8-2.07 0-2.86zM5.41 20L4 18.59l7.72-7.72 1.47 1.35L5.41 20z\"/>\n",
              "  </svg>\n",
              "      </button>\n",
              "      \n",
              "  <style>\n",
              "    .colab-df-container {\n",
              "      display:flex;\n",
              "      flex-wrap:wrap;\n",
              "      gap: 12px;\n",
              "    }\n",
              "\n",
              "    .colab-df-convert {\n",
              "      background-color: #E8F0FE;\n",
              "      border: none;\n",
              "      border-radius: 50%;\n",
              "      cursor: pointer;\n",
              "      display: none;\n",
              "      fill: #1967D2;\n",
              "      height: 32px;\n",
              "      padding: 0 0 0 0;\n",
              "      width: 32px;\n",
              "    }\n",
              "\n",
              "    .colab-df-convert:hover {\n",
              "      background-color: #E2EBFA;\n",
              "      box-shadow: 0px 1px 2px rgba(60, 64, 67, 0.3), 0px 1px 3px 1px rgba(60, 64, 67, 0.15);\n",
              "      fill: #174EA6;\n",
              "    }\n",
              "\n",
              "    [theme=dark] .colab-df-convert {\n",
              "      background-color: #3B4455;\n",
              "      fill: #D2E3FC;\n",
              "    }\n",
              "\n",
              "    [theme=dark] .colab-df-convert:hover {\n",
              "      background-color: #434B5C;\n",
              "      box-shadow: 0px 1px 3px 1px rgba(0, 0, 0, 0.15);\n",
              "      filter: drop-shadow(0px 1px 2px rgba(0, 0, 0, 0.3));\n",
              "      fill: #FFFFFF;\n",
              "    }\n",
              "  </style>\n",
              "\n",
              "      <script>\n",
              "        const buttonEl =\n",
              "          document.querySelector('#df-ff40af70-f8ef-46d0-af35-0fb7856f06e4 button.colab-df-convert');\n",
              "        buttonEl.style.display =\n",
              "          google.colab.kernel.accessAllowed ? 'block' : 'none';\n",
              "\n",
              "        async function convertToInteractive(key) {\n",
              "          const element = document.querySelector('#df-ff40af70-f8ef-46d0-af35-0fb7856f06e4');\n",
              "          const dataTable =\n",
              "            await google.colab.kernel.invokeFunction('convertToInteractive',\n",
              "                                                     [key], {});\n",
              "          if (!dataTable) return;\n",
              "\n",
              "          const docLinkHtml = 'Like what you see? Visit the ' +\n",
              "            '<a target=\"_blank\" href=https://colab.research.google.com/notebooks/data_table.ipynb>data table notebook</a>'\n",
              "            + ' to learn more about interactive tables.';\n",
              "          element.innerHTML = '';\n",
              "          dataTable['output_type'] = 'display_data';\n",
              "          await google.colab.output.renderOutput(dataTable, element);\n",
              "          const docLink = document.createElement('div');\n",
              "          docLink.innerHTML = docLinkHtml;\n",
              "          element.appendChild(docLink);\n",
              "        }\n",
              "      </script>\n",
              "    </div>\n",
              "  </div>\n",
              "  "
            ]
          },
          "metadata": {},
          "execution_count": 151
        }
      ]
    },
    {
      "cell_type": "markdown",
      "source": [
        "Salvando os dados:"
      ],
      "metadata": {
        "id": "qNDfbgxuNBqf"
      }
    },
    {
      "cell_type": "code",
      "source": [
        "df_novo.to_csv('the_last_of_usEn.csv')"
      ],
      "metadata": {
        "id": "wTlCiklcaffr"
      },
      "execution_count": null,
      "outputs": []
    },
    {
      "cell_type": "markdown",
      "source": [
        "##Pré-processamento dos tweets para Word Cloud"
      ],
      "metadata": {
        "id": "yro4LiQyNHJF"
      }
    },
    {
      "cell_type": "code",
      "source": [
        "df_novo = pd.read_csv('/content/drive/MyDrive/base_de_dados/the_last_of_usEn.csv')"
      ],
      "metadata": {
        "id": "wNhCKyAgiQcp"
      },
      "execution_count": 4,
      "outputs": []
    },
    {
      "cell_type": "markdown",
      "source": [
        "Primeiramente foi feita a tokenização dos comentários, separando por \" \"."
      ],
      "metadata": {
        "id": "Zu-Z_-QPS6b7"
      }
    },
    {
      "cell_type": "code",
      "source": [
        "word_tokens=[]\n",
        "for comentario in df_novo.Textos.str.lower():   \n",
        "    word_tokens = word_tokens + word_tokenize(comentario) \n",
        "  \n"
      ],
      "metadata": {
        "id": "wqTIR9a-ih3p"
      },
      "execution_count": 5,
      "outputs": []
    },
    {
      "cell_type": "markdown",
      "source": [
        "Foi utilizado o módulo 'punctuation' em conjunto com as stopwords do pacote 'nltk'. Estes são os termos e caracteres que serão removidos dos textos."
      ],
      "metadata": {
        "id": "OcRXNsC3RzHB"
      }
    },
    {
      "cell_type": "code",
      "source": [
        "pontuacao = [ponto for ponto in punctuation]"
      ],
      "metadata": {
        "id": "ofVBoSZNoyFC"
      },
      "execution_count": 6,
      "outputs": []
    },
    {
      "cell_type": "code",
      "source": [
        "stop_words = set(stopwords.words('english')) \n",
        "stop_words_with_pont_last = stop_words | set(punctuation) | set([\"last\"])"
      ],
      "metadata": {
        "id": "Ev3pFkygpW-D"
      },
      "execution_count": 7,
      "outputs": []
    },
    {
      "cell_type": "markdown",
      "source": [
        "E agora é possível realizar a filtragem das palavras:\n"
      ],
      "metadata": {
        "id": "iw-63cDiTMuG"
      }
    },
    {
      "cell_type": "code",
      "source": [
        "filtered_word_comentaries = [w for w in word_tokens if not w in stop_words_with_pont_last] "
      ],
      "metadata": {
        "id": "Ad97GY23rFbi"
      },
      "execution_count": 8,
      "outputs": []
    },
    {
      "cell_type": "markdown",
      "source": [
        "Para que a nuvem de palavras seja mais informativa e contenha dados relevantes para uma melhor compreensão dos sentimentos dos usuários, foi realizada uma filtragem de palavras usando adjetivos."
      ],
      "metadata": {
        "id": "BmbSv3IZTWt_"
      }
    },
    {
      "cell_type": "code",
      "source": [
        "adjs = [word for (word, pos) in nltk.pos_tag(filtered_word_comentaries) if (pos[:2] == 'JJ' and word.isalpha() and not (word.startswith('http')))]\n",
        "print (adjs[:10])"
      ],
      "metadata": {
        "colab": {
          "base_uri": "https://localhost:8080/"
        },
        "id": "aZOXboORoU_i",
        "outputId": "8aa17a55-24bb-4e54-b024-c60da8d58be2"
      },
      "execution_count": 9,
      "outputs": [
        {
          "output_type": "stream",
          "name": "stdout",
          "text": [
            "['hard', 'single', 'actual', 'dark', 'envious', 'u', 'wrong', 'good', 'central', 'spectacular']\n"
          ]
        }
      ]
    },
    {
      "cell_type": "code",
      "source": [
        "todas_palavras = ' '.join([texto for texto in adjs])"
      ],
      "metadata": {
        "id": "iiVBijq97O8z"
      },
      "execution_count": 10,
      "outputs": []
    },
    {
      "cell_type": "code",
      "source": [
        "mask = np.array(Image.open('/content/drive/MyDrive/pngegg (1).png'))\n",
        "image_colors = ImageColorGenerator(mask)\n",
        "mask = np.invert(mask)\n",
        "\n"
      ],
      "metadata": {
        "id": "TOSATu31G_FY"
      },
      "execution_count": 11,
      "outputs": []
    },
    {
      "cell_type": "markdown",
      "source": [],
      "metadata": {
        "id": "HYflM07pGP4h"
      }
    },
    {
      "cell_type": "code",
      "source": [
        "nuvem_palavras = WordCloud(background_color= \"white\",\n",
        "                          max_font_size=80, max_words=1000, min_word_length=3,\n",
        "                          collocations=False, mask=mask,\n",
        "                        ).generate(todas_palavras)\n",
        "plt.figure(figsize=(20,14))\n",
        "\n",
        "plt.imshow(nuvem_palavras.recolor(color_func=image_colors,random_state=3),\n",
        "           interpolation=\"bilinear\")\n",
        "plt.axis('off')\n",
        "plt.show()"
      ],
      "metadata": {
        "colab": {
          "base_uri": "https://localhost:8080/",
          "height": 792
        },
        "id": "l3np_k_B6R4w",
        "outputId": "63504348-f4a2-407d-8d25-2737aa4c438c"
      },
      "execution_count": 12,
      "outputs": [
        {
          "output_type": "display_data",
          "data": {
            "text/plain": [
              "<Figure size 1440x1008 with 1 Axes>"
            ],
            "image/png": "[encoded data removed]"
          },
          "metadata": {
            "needs_background": "light"
          }
        }
      ]
    },
    {
      "cell_type": "code",
      "source": [
        "frequencia = nltk.FreqDist(adjs)\n",
        "df_frequencia = pd.DataFrame({\"Palavra\": list(frequencia.keys()), \"Frequência\": list(frequencia.values())}).sort_values(by = 'Frequência', ascending = False)\n",
        "fig = px.bar(data_frame = df_frequencia[:20], x= 'Palavra', y = 'Frequência')\n",
        "fig.update_layout(height=400, width=700, template=\"plotly_dark\", showlegend=False, margin=dict(t=50, r =50))\n",
        "fig.show('png')"
      ],
      "metadata": {
        "colab": {
          "base_uri": "https://localhost:8080/",
          "height": 417
        },
        "id": "2Y0uP1AvVWgB",
        "outputId": "ba4613a6-35db-4e55-c1be-fca21d3169b5"
      },
      "execution_count": 13,
      "outputs": [
        {
          "output_type": "display_data",
          "data": {
            "image/png": "[encoded data removed]"
          },
          "metadata": {}
        }
      ]
    },
    {
      "cell_type": "markdown",
      "source": [
        "##Pré-processamento dos dados para serem utilizados no modelo \"Roberta\"\n"
      ],
      "metadata": {
        "id": "DMVoAu8BXJWi"
      }
    },
    {
      "cell_type": "markdown",
      "source": [
        "Para aplicar o modelo, primeiro removemos as pontuações e as stopwords, como foi feito anteriormente. No entanto, desta vez, vamos juntar essas palavras novamente em cada comentário, criando uma única string e adicionando essa nova string em uma nova coluna do DataFrame."
      ],
      "metadata": {
        "id": "FmxYLYh_XiRY"
      }
    },
    {
      "cell_type": "code",
      "source": [
        "stop_words_2 = stop_words | set(punctuation)"
      ],
      "metadata": {
        "id": "al5JTcxwrJrn"
      },
      "execution_count": 32,
      "outputs": []
    },
    {
      "cell_type": "code",
      "source": [
        "frase_processada = []\n",
        "for comentario in df_novo.Textos.str.lower():\n",
        "  nova_frase = []\n",
        "  palavras_texto = word_tokenize(comentario)\n",
        "  for palavra in palavras_texto:\n",
        "    if palavra not in stop_words_2:\n",
        "      nova_frase.append(palavra)\n",
        "  frase_processada.append(' '.join(nova_frase))  "
      ],
      "metadata": {
        "id": "Wn6q8QAIqdLL"
      },
      "execution_count": 33,
      "outputs": []
    },
    {
      "cell_type": "code",
      "source": [
        "df_novo['Tratamento'] = frase_processada"
      ],
      "metadata": {
        "id": "bbnxX4IYrZVO"
      },
      "execution_count": 34,
      "outputs": []
    },
    {
      "cell_type": "code",
      "source": [
        "df_novo.head()"
      ],
      "metadata": {
        "colab": {
          "base_uri": "https://localhost:8080/",
          "height": 250
        },
        "id": "AWKe1OXirmVw",
        "outputId": "610e7ab3-d18b-49f5-d3fc-089707f27699"
      },
      "execution_count": 24,
      "outputs": [
        {
          "output_type": "execute_result",
          "data": {
            "text/plain": [
              "   Unnamed: 0                                             Textos  \\\n",
              "0           0  I really don’t understand the microcosm of Tex...   \n",
              "1           1  The Long Dark + The Last of Us…is basically ju...   \n",
              "2           2  @Envious i had someone come out last week and ...   \n",
              "3           3  Was invited to discuss The Last of Us S1 on Th...   \n",
              "4           4  The last autograph I got at the Spectacular wa...   \n",
              "\n",
              "          Usuário                  Criado em        Localização  \\\n",
              "0  HTXSportsSpeak  2023-03-20 23:59:45+00:00                NaN   \n",
              "1     CallMeFebel  2023-03-20 23:59:22+00:00               Ohio   \n",
              "2          ki__en  2023-03-20 23:59:20+00:00               aniღ   \n",
              "3    drewXdeficit  2023-03-20 23:59:10+00:00        Saint Louis   \n",
              "4     crawlyscubs  2023-03-20 23:59:08+00:00  1060 West Addison   \n",
              "\n",
              "               user_id                                         Tratamento  \n",
              "0  1579000206036811783  really ’ understand microcosm texans twitter r...  \n",
              "1   954792626514989058  long dark last us…is basically start winter se...  \n",
              "2            752325528  envious someone come last week told found w 5 ...  \n",
              "3             87861464  invited discuss last us s1 keeg tonight https ...  \n",
              "4            277814587  last autograph got spectacular hall famer pat ...  "
            ],
            "text/html": [
              "\n",
              "  <div id=\"df-8e03eb25-7621-43a2-a73e-7bc281fbd181\">\n",
              "    <div class=\"colab-df-container\">\n",
              "      <div>\n",
              "<style scoped>\n",
              "    .dataframe tbody tr th:only-of-type {\n",
              "        vertical-align: middle;\n",
              "    }\n",
              "\n",
              "    .dataframe tbody tr th {\n",
              "        vertical-align: top;\n",
              "    }\n",
              "\n",
              "    .dataframe thead th {\n",
              "        text-align: right;\n",
              "    }\n",
              "</style>\n",
              "<table border=\"1\" class=\"dataframe\">\n",
              "  <thead>\n",
              "    <tr style=\"text-align: right;\">\n",
              "      <th></th>\n",
              "      <th>Unnamed: 0</th>\n",
              "      <th>Textos</th>\n",
              "      <th>Usuário</th>\n",
              "      <th>Criado em</th>\n",
              "      <th>Localização</th>\n",
              "      <th>user_id</th>\n",
              "      <th>Tratamento</th>\n",
              "    </tr>\n",
              "  </thead>\n",
              "  <tbody>\n",
              "    <tr>\n",
              "      <th>0</th>\n",
              "      <td>0</td>\n",
              "      <td>I really don’t understand the microcosm of Tex...</td>\n",
              "      <td>HTXSportsSpeak</td>\n",
              "      <td>2023-03-20 23:59:45+00:00</td>\n",
              "      <td>NaN</td>\n",
              "      <td>1579000206036811783</td>\n",
              "      <td>really ’ understand microcosm texans twitter r...</td>\n",
              "    </tr>\n",
              "    <tr>\n",
              "      <th>1</th>\n",
              "      <td>1</td>\n",
              "      <td>The Long Dark + The Last of Us…is basically ju...</td>\n",
              "      <td>CallMeFebel</td>\n",
              "      <td>2023-03-20 23:59:22+00:00</td>\n",
              "      <td>Ohio</td>\n",
              "      <td>954792626514989058</td>\n",
              "      <td>long dark last us…is basically start winter se...</td>\n",
              "    </tr>\n",
              "    <tr>\n",
              "      <th>2</th>\n",
              "      <td>2</td>\n",
              "      <td>@Envious i had someone come out last week and ...</td>\n",
              "      <td>ki__en</td>\n",
              "      <td>2023-03-20 23:59:20+00:00</td>\n",
              "      <td>aniღ</td>\n",
              "      <td>752325528</td>\n",
              "      <td>envious someone come last week told found w 5 ...</td>\n",
              "    </tr>\n",
              "    <tr>\n",
              "      <th>3</th>\n",
              "      <td>3</td>\n",
              "      <td>Was invited to discuss The Last of Us S1 on Th...</td>\n",
              "      <td>drewXdeficit</td>\n",
              "      <td>2023-03-20 23:59:10+00:00</td>\n",
              "      <td>Saint Louis</td>\n",
              "      <td>87861464</td>\n",
              "      <td>invited discuss last us s1 keeg tonight https ...</td>\n",
              "    </tr>\n",
              "    <tr>\n",
              "      <th>4</th>\n",
              "      <td>4</td>\n",
              "      <td>The last autograph I got at the Spectacular wa...</td>\n",
              "      <td>crawlyscubs</td>\n",
              "      <td>2023-03-20 23:59:08+00:00</td>\n",
              "      <td>1060 West Addison</td>\n",
              "      <td>277814587</td>\n",
              "      <td>last autograph got spectacular hall famer pat ...</td>\n",
              "    </tr>\n",
              "  </tbody>\n",
              "</table>\n",
              "</div>\n",
              "      <button class=\"colab-df-convert\" onclick=\"convertToInteractive('df-8e03eb25-7621-43a2-a73e-7bc281fbd181')\"\n",
              "              title=\"Convert this dataframe to an interactive table.\"\n",
              "              style=\"display:none;\">\n",
              "        \n",
              "  <svg xmlns=\"http://www.w3.org/2000/svg\" height=\"24px\"viewBox=\"0 0 24 24\"\n",
              "       width=\"24px\">\n",
              "    <path d=\"M0 0h24v24H0V0z\" fill=\"none\"/>\n",
              "    <path d=\"M18.56 5.44l.94 2.06.94-2.06 2.06-.94-2.06-.94-.94-2.06-.94 2.06-2.06.94zm-11 1L8.5 8.5l.94-2.06 2.06-.94-2.06-.94L8.5 2.5l-.94 2.06-2.06.94zm10 10l.94 2.06.94-2.06 2.06-.94-2.06-.94-.94-2.06-.94 2.06-2.06.94z\"/><path d=\"M17.41 7.96l-1.37-1.37c-.4-.4-.92-.59-1.43-.59-.52 0-1.04.2-1.43.59L10.3 9.45l-7.72 7.72c-.78.78-.78 2.05 0 2.83L4 21.41c.39.39.9.59 1.41.59.51 0 1.02-.2 1.41-.59l7.78-7.78 2.81-2.81c.8-.78.8-2.07 0-2.86zM5.41 20L4 18.59l7.72-7.72 1.47 1.35L5.41 20z\"/>\n",
              "  </svg>\n",
              "      </button>\n",
              "      \n",
              "  <style>\n",
              "    .colab-df-container {\n",
              "      display:flex;\n",
              "      flex-wrap:wrap;\n",
              "      gap: 12px;\n",
              "    }\n",
              "\n",
              "    .colab-df-convert {\n",
              "      background-color: #E8F0FE;\n",
              "      border: none;\n",
              "      border-radius: 50%;\n",
              "      cursor: pointer;\n",
              "      display: none;\n",
              "      fill: #1967D2;\n",
              "      height: 32px;\n",
              "      padding: 0 0 0 0;\n",
              "      width: 32px;\n",
              "    }\n",
              "\n",
              "    .colab-df-convert:hover {\n",
              "      background-color: #E2EBFA;\n",
              "      box-shadow: 0px 1px 2px rgba(60, 64, 67, 0.3), 0px 1px 3px 1px rgba(60, 64, 67, 0.15);\n",
              "      fill: #174EA6;\n",
              "    }\n",
              "\n",
              "    [theme=dark] .colab-df-convert {\n",
              "      background-color: #3B4455;\n",
              "      fill: #D2E3FC;\n",
              "    }\n",
              "\n",
              "    [theme=dark] .colab-df-convert:hover {\n",
              "      background-color: #434B5C;\n",
              "      box-shadow: 0px 1px 3px 1px rgba(0, 0, 0, 0.15);\n",
              "      filter: drop-shadow(0px 1px 2px rgba(0, 0, 0, 0.3));\n",
              "      fill: #FFFFFF;\n",
              "    }\n",
              "  </style>\n",
              "\n",
              "      <script>\n",
              "        const buttonEl =\n",
              "          document.querySelector('#df-8e03eb25-7621-43a2-a73e-7bc281fbd181 button.colab-df-convert');\n",
              "        buttonEl.style.display =\n",
              "          google.colab.kernel.accessAllowed ? 'block' : 'none';\n",
              "\n",
              "        async function convertToInteractive(key) {\n",
              "          const element = document.querySelector('#df-8e03eb25-7621-43a2-a73e-7bc281fbd181');\n",
              "          const dataTable =\n",
              "            await google.colab.kernel.invokeFunction('convertToInteractive',\n",
              "                                                     [key], {});\n",
              "          if (!dataTable) return;\n",
              "\n",
              "          const docLinkHtml = 'Like what you see? Visit the ' +\n",
              "            '<a target=\"_blank\" href=https://colab.research.google.com/notebooks/data_table.ipynb>data table notebook</a>'\n",
              "            + ' to learn more about interactive tables.';\n",
              "          element.innerHTML = '';\n",
              "          dataTable['output_type'] = 'display_data';\n",
              "          await google.colab.output.renderOutput(dataTable, element);\n",
              "          const docLink = document.createElement('div');\n",
              "          docLink.innerHTML = docLinkHtml;\n",
              "          element.appendChild(docLink);\n",
              "        }\n",
              "      </script>\n",
              "    </div>\n",
              "  </div>\n",
              "  "
            ]
          },
          "metadata": {},
          "execution_count": 24
        }
      ]
    },
    {
      "cell_type": "markdown",
      "source": [
        "Baixando o modelo \"Roberta\" e seu Tokenizer"
      ],
      "metadata": {
        "id": "Zc0Brf2WYh_J"
      }
    },
    {
      "cell_type": "code",
      "source": [
        "roberta = \"cardiffnlp/twitter-roberta-base-sentiment\"\n",
        "\n",
        "model = AutoModelForSequenceClassification.from_pretrained(roberta)\n",
        "tokenizer = AutoTokenizer.from_pretrained(roberta)\n",
        "\n",
        "labels = ['Negative', 'Neutral', 'Positive']"
      ],
      "metadata": {
        "colab": {
          "base_uri": "https://localhost:8080/",
          "height": 177,
          "referenced_widgets": [
            "c15f244832ba46ddb2fad042dd34abf0",
            "73345e23220349e587be90710e1e2736",
            "d9ef6c35c0244826947fbb036511d519",
            "7c7c51709a074b938178e88565ea9e04",
            "ece5079e1c3b4400b199ffcf9d02b76d",
            "a1c29c60c08f4a86bb9d362f61cabcb0",
            "08ecb0cfe05d421490041f25e31afe4a",
            "41ff4523e5d3431e906f35b0ae5a5bad",
            "21fe058e05ff4faaa02d3787f59b4ed9",
            "6592e58593e54cb58538f58ec325678e",
            "b10843d242964c24a5b1b587efbd7c35",
            "2085dc4ff1b643d9b8ce6bfccc165d1c",
            "a0e5cbcae75b4459a7a3f2f4de081b34",
            "ee8bca0af4f14a33b101d272a2b39c4c",
            "5b509c48024f49a4aaac30988dad0e17",
            "4e384d94abc9497383de8ad03519dfc3",
            "a5e320415f0f4816b4806129d997ee17",
            "5abe81adedb84f019e29182316f46682",
            "29575a06467748a6935549918533d892",
            "16775e6efb45494d9214f9c8a85967d6",
            "30925cc78ef346a0a8295c3ac610ec00",
            "d814b47a1807450eb8f106ca69c6e007",
            "816d33642f0744b9a6077f1914f3df6a",
            "b4b6156a8ba84782ba6b4110d660bdfe",
            "9eb8e30cef254f6f96a7f49e24254053",
            "3f54f7a18aa24758ae2a5b3f7feee9ed",
            "f454c15b869c4d969d109607ffa98e93",
            "b36d11848e734712a51e3d55e7d882de",
            "a5b857f9a2ce41f882a24383e8a5af85",
            "5d0a958fc1d64d3598a0429762163d61",
            "1c2100de96b4444eba93c5b90c4139af",
            "5f71ee5cd7b343d6ba7800500c6bf4b0",
            "895ffc8e60914a118eb7215288f1aba8",
            "0e5da026b54b4350a55b85ce3eb2c72d",
            "df0df9e40988480493e9666b2ff251a5",
            "25912e2922a34fa593f8d7fc72b9dcb1",
            "6a2fb9671e134823980066e07ca9935c",
            "7d6bb2090d2a4586aa3a47d39aa6e1d8",
            "9341e9ea3cf34229b6127154b97270f4",
            "c4f8fbe4c2bb4bcda0d915537a339374",
            "be622f608a7246419fe37e90ca8c380d",
            "80ad4f8848f54dff8c4adb4bcc5ed492",
            "1e4aa0e192054633942d5fd92dd327ef",
            "2971755452704bae931d912b21d5cb81",
            "441eabaf0468446ebfdc061a0ec764b6",
            "e04607af18a241ebbf907f4ba6813c13",
            "1347e7af3193486a84b648dc5e9d014b",
            "a72607ab34a04efebbed4ffdc3a1cafe",
            "cdb3d92c3a2b4c549b8358b3cc2c906d",
            "875d41f27bf9480894540d50e30dd0d5",
            "97b1f8cbbbad4d2699dcfc0a2ea00934",
            "cbfebe02662b4360bcfd23690f038bfb",
            "1dcfdd9f4a3d4975a5cca7a882c174cd",
            "465402286cc34e55a137cefa35408418",
            "0491d666d91040e09d15eeea8ff415f3"
          ]
        },
        "id": "i9yeUO0et86W",
        "outputId": "8553d775-e7fb-4f25-90fc-4afc21fa8e10"
      },
      "execution_count": 27,
      "outputs": [
        {
          "output_type": "display_data",
          "data": {
            "text/plain": [
              "Downloading (…)lve/main/config.json:   0%|          | 0.00/747 [00:00<?, ?B/s]"
            ],
            "application/vnd.jupyter.widget-view+json": {
              "version_major": 2,
              "version_minor": 0,
              "model_id": "c15f244832ba46ddb2fad042dd34abf0"
            }
          },
          "metadata": {}
        },
        {
          "output_type": "display_data",
          "data": {
            "text/plain": [
              "Downloading pytorch_model.bin:   0%|          | 0.00/499M [00:00<?, ?B/s]"
            ],
            "application/vnd.jupyter.widget-view+json": {
              "version_major": 2,
              "version_minor": 0,
              "model_id": "2085dc4ff1b643d9b8ce6bfccc165d1c"
            }
          },
          "metadata": {}
        },
        {
          "output_type": "display_data",
          "data": {
            "text/plain": [
              "Downloading (…)olve/main/vocab.json:   0%|          | 0.00/899k [00:00<?, ?B/s]"
            ],
            "application/vnd.jupyter.widget-view+json": {
              "version_major": 2,
              "version_minor": 0,
              "model_id": "816d33642f0744b9a6077f1914f3df6a"
            }
          },
          "metadata": {}
        },
        {
          "output_type": "display_data",
          "data": {
            "text/plain": [
              "Downloading (…)olve/main/merges.txt:   0%|          | 0.00/456k [00:00<?, ?B/s]"
            ],
            "application/vnd.jupyter.widget-view+json": {
              "version_major": 2,
              "version_minor": 0,
              "model_id": "0e5da026b54b4350a55b85ce3eb2c72d"
            }
          },
          "metadata": {}
        },
        {
          "output_type": "display_data",
          "data": {
            "text/plain": [
              "Downloading (…)cial_tokens_map.json:   0%|          | 0.00/150 [00:00<?, ?B/s]"
            ],
            "application/vnd.jupyter.widget-view+json": {
              "version_major": 2,
              "version_minor": 0,
              "model_id": "441eabaf0468446ebfdc061a0ec764b6"
            }
          },
          "metadata": {}
        }
      ]
    },
    {
      "cell_type": "markdown",
      "source": [
        "##Tokenização, vetorização e aplicação dos dados no modelo \"Roberta\"\n",
        "Foi criada uma lista para receber os valores das probabilidades geradas por Roberta que foram padronizadas pela \"softmax\". Esses \"scores\" foram transformados em um Data Frame, utilizando os sentimentos como nome das colunas."
      ],
      "metadata": {
        "id": "v3NJAmtWYxq-"
      }
    },
    {
      "cell_type": "code",
      "source": [
        "notas = []\n",
        "for comentarie in df_novo['Tratamento']:\n",
        "  encoded_tweet = tokenizer(comentarie, return_tensors='pt')\n",
        "  output = model(**encoded_tweet)\n",
        "  scores = output[0][0].detach().numpy()\n",
        "  scores = softmax(scores)\n",
        "  notas.append(scores)"
      ],
      "metadata": {
        "id": "fZCRS527ueZ9"
      },
      "execution_count": 30,
      "outputs": []
    },
    {
      "cell_type": "code",
      "source": [
        "df_scores = pd.DataFrame(notas, columns = ['Negative', 'Neutral', 'Positive'])\n",
        "df_scores.head()"
      ],
      "metadata": {
        "id": "5_1jDKbeunI-"
      },
      "execution_count": 39,
      "outputs": []
    },
    {
      "cell_type": "markdown",
      "source": [
        "Salvando o novo DataFrame"
      ],
      "metadata": {
        "id": "9G7GhzKnavwA"
      }
    },
    {
      "cell_type": "code",
      "source": [
        "df_scores.to_csv('Scores_tlou.csv')"
      ],
      "metadata": {
        "id": "T8xEEbaMovlq"
      },
      "execution_count": 40,
      "outputs": []
    },
    {
      "cell_type": "code",
      "source": [
        "df_scores = pd.read_csv('/content/drive/MyDrive/base_de_dados/Scores_tlou.csv').drop('Unnamed: 0', axis = 1)\n",
        "df_scores.head()"
      ],
      "metadata": {
        "colab": {
          "base_uri": "https://localhost:8080/",
          "height": 206
        },
        "id": "LSI76pPSqA_P",
        "outputId": "af956853-42f9-45a2-a948-d65734dfac39"
      },
      "execution_count": 15,
      "outputs": [
        {
          "output_type": "execute_result",
          "data": {
            "text/plain": [
              "   Negative   Neutral  Positive\n",
              "0  0.676216  0.304348  0.019436\n",
              "1  0.049718  0.891341  0.058941\n",
              "2  0.355816  0.497134  0.147049\n",
              "3  0.014120  0.929169  0.056712\n",
              "4  0.001837  0.025893  0.972271"
            ],
            "text/html": [
              "\n",
              "  <div id=\"df-c9d4d5ef-4831-4743-81bf-bbc787637f34\">\n",
              "    <div class=\"colab-df-container\">\n",
              "      <div>\n",
              "<style scoped>\n",
              "    .dataframe tbody tr th:only-of-type {\n",
              "        vertical-align: middle;\n",
              "    }\n",
              "\n",
              "    .dataframe tbody tr th {\n",
              "        vertical-align: top;\n",
              "    }\n",
              "\n",
              "    .dataframe thead th {\n",
              "        text-align: right;\n",
              "    }\n",
              "</style>\n",
              "<table border=\"1\" class=\"dataframe\">\n",
              "  <thead>\n",
              "    <tr style=\"text-align: right;\">\n",
              "      <th></th>\n",
              "      <th>Negative</th>\n",
              "      <th>Neutral</th>\n",
              "      <th>Positive</th>\n",
              "    </tr>\n",
              "  </thead>\n",
              "  <tbody>\n",
              "    <tr>\n",
              "      <th>0</th>\n",
              "      <td>0.676216</td>\n",
              "      <td>0.304348</td>\n",
              "      <td>0.019436</td>\n",
              "    </tr>\n",
              "    <tr>\n",
              "      <th>1</th>\n",
              "      <td>0.049718</td>\n",
              "      <td>0.891341</td>\n",
              "      <td>0.058941</td>\n",
              "    </tr>\n",
              "    <tr>\n",
              "      <th>2</th>\n",
              "      <td>0.355816</td>\n",
              "      <td>0.497134</td>\n",
              "      <td>0.147049</td>\n",
              "    </tr>\n",
              "    <tr>\n",
              "      <th>3</th>\n",
              "      <td>0.014120</td>\n",
              "      <td>0.929169</td>\n",
              "      <td>0.056712</td>\n",
              "    </tr>\n",
              "    <tr>\n",
              "      <th>4</th>\n",
              "      <td>0.001837</td>\n",
              "      <td>0.025893</td>\n",
              "      <td>0.972271</td>\n",
              "    </tr>\n",
              "  </tbody>\n",
              "</table>\n",
              "</div>\n",
              "      <button class=\"colab-df-convert\" onclick=\"convertToInteractive('df-c9d4d5ef-4831-4743-81bf-bbc787637f34')\"\n",
              "              title=\"Convert this dataframe to an interactive table.\"\n",
              "              style=\"display:none;\">\n",
              "        \n",
              "  <svg xmlns=\"http://www.w3.org/2000/svg\" height=\"24px\"viewBox=\"0 0 24 24\"\n",
              "       width=\"24px\">\n",
              "    <path d=\"M0 0h24v24H0V0z\" fill=\"none\"/>\n",
              "    <path d=\"M18.56 5.44l.94 2.06.94-2.06 2.06-.94-2.06-.94-.94-2.06-.94 2.06-2.06.94zm-11 1L8.5 8.5l.94-2.06 2.06-.94-2.06-.94L8.5 2.5l-.94 2.06-2.06.94zm10 10l.94 2.06.94-2.06 2.06-.94-2.06-.94-.94-2.06-.94 2.06-2.06.94z\"/><path d=\"M17.41 7.96l-1.37-1.37c-.4-.4-.92-.59-1.43-.59-.52 0-1.04.2-1.43.59L10.3 9.45l-7.72 7.72c-.78.78-.78 2.05 0 2.83L4 21.41c.39.39.9.59 1.41.59.51 0 1.02-.2 1.41-.59l7.78-7.78 2.81-2.81c.8-.78.8-2.07 0-2.86zM5.41 20L4 18.59l7.72-7.72 1.47 1.35L5.41 20z\"/>\n",
              "  </svg>\n",
              "      </button>\n",
              "      \n",
              "  <style>\n",
              "    .colab-df-container {\n",
              "      display:flex;\n",
              "      flex-wrap:wrap;\n",
              "      gap: 12px;\n",
              "    }\n",
              "\n",
              "    .colab-df-convert {\n",
              "      background-color: #E8F0FE;\n",
              "      border: none;\n",
              "      border-radius: 50%;\n",
              "      cursor: pointer;\n",
              "      display: none;\n",
              "      fill: #1967D2;\n",
              "      height: 32px;\n",
              "      padding: 0 0 0 0;\n",
              "      width: 32px;\n",
              "    }\n",
              "\n",
              "    .colab-df-convert:hover {\n",
              "      background-color: #E2EBFA;\n",
              "      box-shadow: 0px 1px 2px rgba(60, 64, 67, 0.3), 0px 1px 3px 1px rgba(60, 64, 67, 0.15);\n",
              "      fill: #174EA6;\n",
              "    }\n",
              "\n",
              "    [theme=dark] .colab-df-convert {\n",
              "      background-color: #3B4455;\n",
              "      fill: #D2E3FC;\n",
              "    }\n",
              "\n",
              "    [theme=dark] .colab-df-convert:hover {\n",
              "      background-color: #434B5C;\n",
              "      box-shadow: 0px 1px 3px 1px rgba(0, 0, 0, 0.15);\n",
              "      filter: drop-shadow(0px 1px 2px rgba(0, 0, 0, 0.3));\n",
              "      fill: #FFFFFF;\n",
              "    }\n",
              "  </style>\n",
              "\n",
              "      <script>\n",
              "        const buttonEl =\n",
              "          document.querySelector('#df-c9d4d5ef-4831-4743-81bf-bbc787637f34 button.colab-df-convert');\n",
              "        buttonEl.style.display =\n",
              "          google.colab.kernel.accessAllowed ? 'block' : 'none';\n",
              "\n",
              "        async function convertToInteractive(key) {\n",
              "          const element = document.querySelector('#df-c9d4d5ef-4831-4743-81bf-bbc787637f34');\n",
              "          const dataTable =\n",
              "            await google.colab.kernel.invokeFunction('convertToInteractive',\n",
              "                                                     [key], {});\n",
              "          if (!dataTable) return;\n",
              "\n",
              "          const docLinkHtml = 'Like what you see? Visit the ' +\n",
              "            '<a target=\"_blank\" href=https://colab.research.google.com/notebooks/data_table.ipynb>data table notebook</a>'\n",
              "            + ' to learn more about interactive tables.';\n",
              "          element.innerHTML = '';\n",
              "          dataTable['output_type'] = 'display_data';\n",
              "          await google.colab.output.renderOutput(dataTable, element);\n",
              "          const docLink = document.createElement('div');\n",
              "          docLink.innerHTML = docLinkHtml;\n",
              "          element.appendChild(docLink);\n",
              "        }\n",
              "      </script>\n",
              "    </div>\n",
              "  </div>\n",
              "  "
            ]
          },
          "metadata": {},
          "execution_count": 15
        }
      ]
    },
    {
      "cell_type": "markdown",
      "source": [
        "Foi utilizado o método \"idxmax\" que retorna o nome da coluna que contém o maior valor. Ou seja, ele retorna o sentimento que tem a maior probabilidade de acordo com a previsão do modelo."
      ],
      "metadata": {
        "id": "1vf8uBVnbTdf"
      }
    },
    {
      "cell_type": "code",
      "source": [
        "df_scores['classificacao'] = df_scores.idxmax(axis=1)"
      ],
      "metadata": {
        "id": "E03gpH666jAh"
      },
      "execution_count": 16,
      "outputs": []
    },
    {
      "cell_type": "code",
      "source": [
        "df_scores.head()"
      ],
      "metadata": {
        "colab": {
          "base_uri": "https://localhost:8080/",
          "height": 206
        },
        "id": "wqBTzvbm6_oZ",
        "outputId": "7bfbbba9-d8b4-44d0-9ac5-b2cf13e5abbf"
      },
      "execution_count": 17,
      "outputs": [
        {
          "output_type": "execute_result",
          "data": {
            "text/plain": [
              "   Negative   Neutral  Positive classificacao\n",
              "0  0.676216  0.304348  0.019436      Negative\n",
              "1  0.049718  0.891341  0.058941       Neutral\n",
              "2  0.355816  0.497134  0.147049       Neutral\n",
              "3  0.014120  0.929169  0.056712       Neutral\n",
              "4  0.001837  0.025893  0.972271      Positive"
            ],
            "text/html": [
              "\n",
              "  <div id=\"df-722177b8-cb9b-44a4-b35c-8f724f931637\">\n",
              "    <div class=\"colab-df-container\">\n",
              "      <div>\n",
              "<style scoped>\n",
              "    .dataframe tbody tr th:only-of-type {\n",
              "        vertical-align: middle;\n",
              "    }\n",
              "\n",
              "    .dataframe tbody tr th {\n",
              "        vertical-align: top;\n",
              "    }\n",
              "\n",
              "    .dataframe thead th {\n",
              "        text-align: right;\n",
              "    }\n",
              "</style>\n",
              "<table border=\"1\" class=\"dataframe\">\n",
              "  <thead>\n",
              "    <tr style=\"text-align: right;\">\n",
              "      <th></th>\n",
              "      <th>Negative</th>\n",
              "      <th>Neutral</th>\n",
              "      <th>Positive</th>\n",
              "      <th>classificacao</th>\n",
              "    </tr>\n",
              "  </thead>\n",
              "  <tbody>\n",
              "    <tr>\n",
              "      <th>0</th>\n",
              "      <td>0.676216</td>\n",
              "      <td>0.304348</td>\n",
              "      <td>0.019436</td>\n",
              "      <td>Negative</td>\n",
              "    </tr>\n",
              "    <tr>\n",
              "      <th>1</th>\n",
              "      <td>0.049718</td>\n",
              "      <td>0.891341</td>\n",
              "      <td>0.058941</td>\n",
              "      <td>Neutral</td>\n",
              "    </tr>\n",
              "    <tr>\n",
              "      <th>2</th>\n",
              "      <td>0.355816</td>\n",
              "      <td>0.497134</td>\n",
              "      <td>0.147049</td>\n",
              "      <td>Neutral</td>\n",
              "    </tr>\n",
              "    <tr>\n",
              "      <th>3</th>\n",
              "      <td>0.014120</td>\n",
              "      <td>0.929169</td>\n",
              "      <td>0.056712</td>\n",
              "      <td>Neutral</td>\n",
              "    </tr>\n",
              "    <tr>\n",
              "      <th>4</th>\n",
              "      <td>0.001837</td>\n",
              "      <td>0.025893</td>\n",
              "      <td>0.972271</td>\n",
              "      <td>Positive</td>\n",
              "    </tr>\n",
              "  </tbody>\n",
              "</table>\n",
              "</div>\n",
              "      <button class=\"colab-df-convert\" onclick=\"convertToInteractive('df-722177b8-cb9b-44a4-b35c-8f724f931637')\"\n",
              "              title=\"Convert this dataframe to an interactive table.\"\n",
              "              style=\"display:none;\">\n",
              "        \n",
              "  <svg xmlns=\"http://www.w3.org/2000/svg\" height=\"24px\"viewBox=\"0 0 24 24\"\n",
              "       width=\"24px\">\n",
              "    <path d=\"M0 0h24v24H0V0z\" fill=\"none\"/>\n",
              "    <path d=\"M18.56 5.44l.94 2.06.94-2.06 2.06-.94-2.06-.94-.94-2.06-.94 2.06-2.06.94zm-11 1L8.5 8.5l.94-2.06 2.06-.94-2.06-.94L8.5 2.5l-.94 2.06-2.06.94zm10 10l.94 2.06.94-2.06 2.06-.94-2.06-.94-.94-2.06-.94 2.06-2.06.94z\"/><path d=\"M17.41 7.96l-1.37-1.37c-.4-.4-.92-.59-1.43-.59-.52 0-1.04.2-1.43.59L10.3 9.45l-7.72 7.72c-.78.78-.78 2.05 0 2.83L4 21.41c.39.39.9.59 1.41.59.51 0 1.02-.2 1.41-.59l7.78-7.78 2.81-2.81c.8-.78.8-2.07 0-2.86zM5.41 20L4 18.59l7.72-7.72 1.47 1.35L5.41 20z\"/>\n",
              "  </svg>\n",
              "      </button>\n",
              "      \n",
              "  <style>\n",
              "    .colab-df-container {\n",
              "      display:flex;\n",
              "      flex-wrap:wrap;\n",
              "      gap: 12px;\n",
              "    }\n",
              "\n",
              "    .colab-df-convert {\n",
              "      background-color: #E8F0FE;\n",
              "      border: none;\n",
              "      border-radius: 50%;\n",
              "      cursor: pointer;\n",
              "      display: none;\n",
              "      fill: #1967D2;\n",
              "      height: 32px;\n",
              "      padding: 0 0 0 0;\n",
              "      width: 32px;\n",
              "    }\n",
              "\n",
              "    .colab-df-convert:hover {\n",
              "      background-color: #E2EBFA;\n",
              "      box-shadow: 0px 1px 2px rgba(60, 64, 67, 0.3), 0px 1px 3px 1px rgba(60, 64, 67, 0.15);\n",
              "      fill: #174EA6;\n",
              "    }\n",
              "\n",
              "    [theme=dark] .colab-df-convert {\n",
              "      background-color: #3B4455;\n",
              "      fill: #D2E3FC;\n",
              "    }\n",
              "\n",
              "    [theme=dark] .colab-df-convert:hover {\n",
              "      background-color: #434B5C;\n",
              "      box-shadow: 0px 1px 3px 1px rgba(0, 0, 0, 0.15);\n",
              "      filter: drop-shadow(0px 1px 2px rgba(0, 0, 0, 0.3));\n",
              "      fill: #FFFFFF;\n",
              "    }\n",
              "  </style>\n",
              "\n",
              "      <script>\n",
              "        const buttonEl =\n",
              "          document.querySelector('#df-722177b8-cb9b-44a4-b35c-8f724f931637 button.colab-df-convert');\n",
              "        buttonEl.style.display =\n",
              "          google.colab.kernel.accessAllowed ? 'block' : 'none';\n",
              "\n",
              "        async function convertToInteractive(key) {\n",
              "          const element = document.querySelector('#df-722177b8-cb9b-44a4-b35c-8f724f931637');\n",
              "          const dataTable =\n",
              "            await google.colab.kernel.invokeFunction('convertToInteractive',\n",
              "                                                     [key], {});\n",
              "          if (!dataTable) return;\n",
              "\n",
              "          const docLinkHtml = 'Like what you see? Visit the ' +\n",
              "            '<a target=\"_blank\" href=https://colab.research.google.com/notebooks/data_table.ipynb>data table notebook</a>'\n",
              "            + ' to learn more about interactive tables.';\n",
              "          element.innerHTML = '';\n",
              "          dataTable['output_type'] = 'display_data';\n",
              "          await google.colab.output.renderOutput(dataTable, element);\n",
              "          const docLink = document.createElement('div');\n",
              "          docLink.innerHTML = docLinkHtml;\n",
              "          element.appendChild(docLink);\n",
              "        }\n",
              "      </script>\n",
              "    </div>\n",
              "  </div>\n",
              "  "
            ]
          },
          "metadata": {},
          "execution_count": 17
        }
      ]
    },
    {
      "cell_type": "markdown",
      "source": [
        "Juntando os dois DataFrames criados"
      ],
      "metadata": {
        "id": "V9N6EL-ucObI"
      }
    },
    {
      "cell_type": "code",
      "source": [
        "final_df = pd.concat([df_novo, df_scores], axis = 1).drop('Unnamed: 0', axis = 1)\n",
        "final_df.head()"
      ],
      "metadata": {
        "id": "DO-etlmJvOJE",
        "colab": {
          "base_uri": "https://localhost:8080/",
          "height": 206
        },
        "outputId": "e2f03c7c-5e7e-4f40-a116-cc4e21ff0936"
      },
      "execution_count": 18,
      "outputs": [
        {
          "output_type": "execute_result",
          "data": {
            "text/plain": [
              "                                              Textos         Usuário  \\\n",
              "0  I really don’t understand the microcosm of Tex...  HTXSportsSpeak   \n",
              "1  The Long Dark + The Last of Us…is basically ju...     CallMeFebel   \n",
              "2  @Envious i had someone come out last week and ...          ki__en   \n",
              "3  Was invited to discuss The Last of Us S1 on Th...    drewXdeficit   \n",
              "4  The last autograph I got at the Spectacular wa...     crawlyscubs   \n",
              "\n",
              "                   Criado em        Localização              user_id  \\\n",
              "0  2023-03-20 23:59:45+00:00                NaN  1579000206036811783   \n",
              "1  2023-03-20 23:59:22+00:00               Ohio   954792626514989058   \n",
              "2  2023-03-20 23:59:20+00:00               aniღ            752325528   \n",
              "3  2023-03-20 23:59:10+00:00        Saint Louis             87861464   \n",
              "4  2023-03-20 23:59:08+00:00  1060 West Addison            277814587   \n",
              "\n",
              "   Negative   Neutral  Positive classificacao  \n",
              "0  0.676216  0.304348  0.019436      Negative  \n",
              "1  0.049718  0.891341  0.058941       Neutral  \n",
              "2  0.355816  0.497134  0.147049       Neutral  \n",
              "3  0.014120  0.929169  0.056712       Neutral  \n",
              "4  0.001837  0.025893  0.972271      Positive  "
            ],
            "text/html": [
              "\n",
              "  <div id=\"df-31772fc4-43cc-4273-bf65-b13d59be4974\">\n",
              "    <div class=\"colab-df-container\">\n",
              "      <div>\n",
              "<style scoped>\n",
              "    .dataframe tbody tr th:only-of-type {\n",
              "        vertical-align: middle;\n",
              "    }\n",
              "\n",
              "    .dataframe tbody tr th {\n",
              "        vertical-align: top;\n",
              "    }\n",
              "\n",
              "    .dataframe thead th {\n",
              "        text-align: right;\n",
              "    }\n",
              "</style>\n",
              "<table border=\"1\" class=\"dataframe\">\n",
              "  <thead>\n",
              "    <tr style=\"text-align: right;\">\n",
              "      <th></th>\n",
              "      <th>Textos</th>\n",
              "      <th>Usuário</th>\n",
              "      <th>Criado em</th>\n",
              "      <th>Localização</th>\n",
              "      <th>user_id</th>\n",
              "      <th>Negative</th>\n",
              "      <th>Neutral</th>\n",
              "      <th>Positive</th>\n",
              "      <th>classificacao</th>\n",
              "    </tr>\n",
              "  </thead>\n",
              "  <tbody>\n",
              "    <tr>\n",
              "      <th>0</th>\n",
              "      <td>I really don’t understand the microcosm of Tex...</td>\n",
              "      <td>HTXSportsSpeak</td>\n",
              "      <td>2023-03-20 23:59:45+00:00</td>\n",
              "      <td>NaN</td>\n",
              "      <td>1579000206036811783</td>\n",
              "      <td>0.676216</td>\n",
              "      <td>0.304348</td>\n",
              "      <td>0.019436</td>\n",
              "      <td>Negative</td>\n",
              "    </tr>\n",
              "    <tr>\n",
              "      <th>1</th>\n",
              "      <td>The Long Dark + The Last of Us…is basically ju...</td>\n",
              "      <td>CallMeFebel</td>\n",
              "      <td>2023-03-20 23:59:22+00:00</td>\n",
              "      <td>Ohio</td>\n",
              "      <td>954792626514989058</td>\n",
              "      <td>0.049718</td>\n",
              "      <td>0.891341</td>\n",
              "      <td>0.058941</td>\n",
              "      <td>Neutral</td>\n",
              "    </tr>\n",
              "    <tr>\n",
              "      <th>2</th>\n",
              "      <td>@Envious i had someone come out last week and ...</td>\n",
              "      <td>ki__en</td>\n",
              "      <td>2023-03-20 23:59:20+00:00</td>\n",
              "      <td>aniღ</td>\n",
              "      <td>752325528</td>\n",
              "      <td>0.355816</td>\n",
              "      <td>0.497134</td>\n",
              "      <td>0.147049</td>\n",
              "      <td>Neutral</td>\n",
              "    </tr>\n",
              "    <tr>\n",
              "      <th>3</th>\n",
              "      <td>Was invited to discuss The Last of Us S1 on Th...</td>\n",
              "      <td>drewXdeficit</td>\n",
              "      <td>2023-03-20 23:59:10+00:00</td>\n",
              "      <td>Saint Louis</td>\n",
              "      <td>87861464</td>\n",
              "      <td>0.014120</td>\n",
              "      <td>0.929169</td>\n",
              "      <td>0.056712</td>\n",
              "      <td>Neutral</td>\n",
              "    </tr>\n",
              "    <tr>\n",
              "      <th>4</th>\n",
              "      <td>The last autograph I got at the Spectacular wa...</td>\n",
              "      <td>crawlyscubs</td>\n",
              "      <td>2023-03-20 23:59:08+00:00</td>\n",
              "      <td>1060 West Addison</td>\n",
              "      <td>277814587</td>\n",
              "      <td>0.001837</td>\n",
              "      <td>0.025893</td>\n",
              "      <td>0.972271</td>\n",
              "      <td>Positive</td>\n",
              "    </tr>\n",
              "  </tbody>\n",
              "</table>\n",
              "</div>\n",
              "      <button class=\"colab-df-convert\" onclick=\"convertToInteractive('df-31772fc4-43cc-4273-bf65-b13d59be4974')\"\n",
              "              title=\"Convert this dataframe to an interactive table.\"\n",
              "              style=\"display:none;\">\n",
              "        \n",
              "  <svg xmlns=\"http://www.w3.org/2000/svg\" height=\"24px\"viewBox=\"0 0 24 24\"\n",
              "       width=\"24px\">\n",
              "    <path d=\"M0 0h24v24H0V0z\" fill=\"none\"/>\n",
              "    <path d=\"M18.56 5.44l.94 2.06.94-2.06 2.06-.94-2.06-.94-.94-2.06-.94 2.06-2.06.94zm-11 1L8.5 8.5l.94-2.06 2.06-.94-2.06-.94L8.5 2.5l-.94 2.06-2.06.94zm10 10l.94 2.06.94-2.06 2.06-.94-2.06-.94-.94-2.06-.94 2.06-2.06.94z\"/><path d=\"M17.41 7.96l-1.37-1.37c-.4-.4-.92-.59-1.43-.59-.52 0-1.04.2-1.43.59L10.3 9.45l-7.72 7.72c-.78.78-.78 2.05 0 2.83L4 21.41c.39.39.9.59 1.41.59.51 0 1.02-.2 1.41-.59l7.78-7.78 2.81-2.81c.8-.78.8-2.07 0-2.86zM5.41 20L4 18.59l7.72-7.72 1.47 1.35L5.41 20z\"/>\n",
              "  </svg>\n",
              "      </button>\n",
              "      \n",
              "  <style>\n",
              "    .colab-df-container {\n",
              "      display:flex;\n",
              "      flex-wrap:wrap;\n",
              "      gap: 12px;\n",
              "    }\n",
              "\n",
              "    .colab-df-convert {\n",
              "      background-color: #E8F0FE;\n",
              "      border: none;\n",
              "      border-radius: 50%;\n",
              "      cursor: pointer;\n",
              "      display: none;\n",
              "      fill: #1967D2;\n",
              "      height: 32px;\n",
              "      padding: 0 0 0 0;\n",
              "      width: 32px;\n",
              "    }\n",
              "\n",
              "    .colab-df-convert:hover {\n",
              "      background-color: #E2EBFA;\n",
              "      box-shadow: 0px 1px 2px rgba(60, 64, 67, 0.3), 0px 1px 3px 1px rgba(60, 64, 67, 0.15);\n",
              "      fill: #174EA6;\n",
              "    }\n",
              "\n",
              "    [theme=dark] .colab-df-convert {\n",
              "      background-color: #3B4455;\n",
              "      fill: #D2E3FC;\n",
              "    }\n",
              "\n",
              "    [theme=dark] .colab-df-convert:hover {\n",
              "      background-color: #434B5C;\n",
              "      box-shadow: 0px 1px 3px 1px rgba(0, 0, 0, 0.15);\n",
              "      filter: drop-shadow(0px 1px 2px rgba(0, 0, 0, 0.3));\n",
              "      fill: #FFFFFF;\n",
              "    }\n",
              "  </style>\n",
              "\n",
              "      <script>\n",
              "        const buttonEl =\n",
              "          document.querySelector('#df-31772fc4-43cc-4273-bf65-b13d59be4974 button.colab-df-convert');\n",
              "        buttonEl.style.display =\n",
              "          google.colab.kernel.accessAllowed ? 'block' : 'none';\n",
              "\n",
              "        async function convertToInteractive(key) {\n",
              "          const element = document.querySelector('#df-31772fc4-43cc-4273-bf65-b13d59be4974');\n",
              "          const dataTable =\n",
              "            await google.colab.kernel.invokeFunction('convertToInteractive',\n",
              "                                                     [key], {});\n",
              "          if (!dataTable) return;\n",
              "\n",
              "          const docLinkHtml = 'Like what you see? Visit the ' +\n",
              "            '<a target=\"_blank\" href=https://colab.research.google.com/notebooks/data_table.ipynb>data table notebook</a>'\n",
              "            + ' to learn more about interactive tables.';\n",
              "          element.innerHTML = '';\n",
              "          dataTable['output_type'] = 'display_data';\n",
              "          await google.colab.output.renderOutput(dataTable, element);\n",
              "          const docLink = document.createElement('div');\n",
              "          docLink.innerHTML = docLinkHtml;\n",
              "          element.appendChild(docLink);\n",
              "        }\n",
              "      </script>\n",
              "    </div>\n",
              "  </div>\n",
              "  "
            ]
          },
          "metadata": {},
          "execution_count": 18
        }
      ]
    },
    {
      "cell_type": "code",
      "source": [
        "classification = final_df.classificacao.value_counts(normalize = True)*100\n",
        "classification"
      ],
      "metadata": {
        "colab": {
          "base_uri": "https://localhost:8080/"
        },
        "id": "6HUOP3Ct9Tpv",
        "outputId": "e442f1f4-605d-4f9a-fbc6-83db00151d5e"
      },
      "execution_count": 19,
      "outputs": [
        {
          "output_type": "execute_result",
          "data": {
            "text/plain": [
              "Neutral     60.077027\n",
              "Positive    20.780924\n",
              "Negative    19.142049\n",
              "Name: classificacao, dtype: float64"
            ]
          },
          "metadata": {},
          "execution_count": 19
        }
      ]
    },
    {
      "cell_type": "code",
      "source": [
        "fig = px.bar(classification, orientation = 'h').update_xaxes(title = \"Percentage of 48821 tweets\").update_yaxes(title = \"Sentiments\")\n",
        "fig.update_layout(height=350, width=700, template=\"plotly_dark\", showlegend=False, margin=dict(t=50, r =50))\n",
        "fig.show('png')\n"
      ],
      "metadata": {
        "colab": {
          "base_uri": "https://localhost:8080/",
          "height": 367
        },
        "id": "U7TqEEA2CkCq",
        "outputId": "a5b66b1d-eed2-441a-e3c5-015e5f45396a"
      },
      "execution_count": 20,
      "outputs": [
        {
          "output_type": "display_data",
          "data": {
            "image/png": "[encoded data removed]"
          },
          "metadata": {}
        }
      ]
    },
    {
      "cell_type": "markdown",
      "source": [
        "Após analisar o gráfico, podemos concluir que as opiniões relativas a essa amostra estão bastante divididas. As opiniões positivas representam 20,78% dos comentários e as negativas representam 19%. As opiniões neutras correspondem a 60% da amostra."
      ],
      "metadata": {
        "id": "hhc5qdXCcU7k"
      }
    }
  ]
}